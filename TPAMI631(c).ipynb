{
  "nbformat": 4,
  "nbformat_minor": 0,
  "metadata": {
    "colab": {
      "name": "TPAMI631(c).ipynb",
      "provenance": [],
      "collapsed_sections": [],
      "authorship_tag": "ABX9TyNmpsvaq2jLSf2X1uYdIjzT",
      "include_colab_link": true
    },
    "kernelspec": {
      "name": "python3",
      "display_name": "Python 3"
    },
    "language_info": {
      "name": "python"
    },
    "accelerator": "GPU",
    "gpuClass": "standard"
  },
  "cells": [
    {
      "cell_type": "markdown",
      "metadata": {
        "id": "view-in-github",
        "colab_type": "text"
      },
      "source": [
        "<a href=\"https://colab.research.google.com/github/jjjuurang/CLIP/blob/main/TPAMI631(c).ipynb\" target=\"_parent\"><img src=\"https://colab.research.google.com/assets/colab-badge.svg\" alt=\"Open In Colab\"/></a>"
      ]
    },
    {
      "cell_type": "code",
      "source": [
        "true  = True\n",
        "false = False"
      ],
      "metadata": {
        "id": "SpH49vkvLnY3"
      },
      "execution_count": 250,
      "outputs": []
    },
    {
      "cell_type": "code",
      "source": [
        "import pandas as pd\n",
        "csv = pd.read_csv(\"/content/TPAMI603010.csv\",names=[\"result\"])"
      ],
      "metadata": {
        "id": "T5EI1O8oV3qu"
      },
      "execution_count": 251,
      "outputs": []
    },
    {
      "cell_type": "code",
      "source": [
        "R = csv['result'].values.tolist()"
      ],
      "metadata": {
        "id": "PTJtT9_JTuJs"
      },
      "execution_count": 252,
      "outputs": []
    },
    {
      "cell_type": "code",
      "source": [
        "eval(R[0])[0][\"1\"]"
      ],
      "metadata": {
        "colab": {
          "base_uri": "https://localhost:8080/"
        },
        "id": "CiaPOTHCgheD",
        "outputId": "e9d09b21-131c-4a4b-f335-cb144e7d284d"
      },
      "execution_count": 253,
      "outputs": [
        {
          "output_type": "execute_result",
          "data": {
            "text/plain": [
              "{'audio': True, 'tedi': False, 'text': False}"
            ]
          },
          "metadata": {},
          "execution_count": 253
        }
      ]
    },
    {
      "cell_type": "code",
      "source": [
        "eval(R[0])[0][\"1\"][\"audio\"]"
      ],
      "metadata": {
        "colab": {
          "base_uri": "https://localhost:8080/"
        },
        "id": "Bf2nnrOWglxN",
        "outputId": "120ed1c5-dd1b-43a8-d4a3-16d5583de87d"
      },
      "execution_count": 254,
      "outputs": [
        {
          "output_type": "execute_result",
          "data": {
            "text/plain": [
              "True"
            ]
          },
          "metadata": {},
          "execution_count": 254
        }
      ]
    },
    {
      "cell_type": "code",
      "source": [
        "Best = [\"audio\", \"tedi\", \"text\"]\n",
        "Sound = [\"explosion\", \"fire\", \"raining\", \"water\"]"
      ],
      "metadata": {
        "id": "CErV8bzfm9P7"
      },
      "execution_count": 255,
      "outputs": []
    },
    {
      "cell_type": "code",
      "source": [
        "import numpy as np\n",
        "S1 = np.zeros((203,1))\n",
        "S2 = np.zeros((203,1))\n",
        "S3 = np.zeros((203,1))"
      ],
      "metadata": {
        "id": "s4ql1RHWs7Bh"
      },
      "execution_count": 256,
      "outputs": []
    },
    {
      "cell_type": "code",
      "source": [
        "for i in range(len(R)):\n",
        "  s=0\n",
        "  for j in range(5):\n",
        "    if eval(R[i])[0][str(j+1)][\"audio\"] == True:\n",
        "      s+=1\n",
        "  S1[i][0]=s"
      ],
      "metadata": {
        "id": "aoZWVPkXqurs"
      },
      "execution_count": 257,
      "outputs": []
    },
    {
      "cell_type": "code",
      "source": [
        "for i in range(len(R)):\n",
        "  s=0\n",
        "  for j in range(5):\n",
        "    if eval(R[i])[0][str(j+1)][\"tedi\"] == True:\n",
        "      s+=1\n",
        "  S2[i][0]=s"
      ],
      "metadata": {
        "id": "U03M0vTaSPKD"
      },
      "execution_count": 258,
      "outputs": []
    },
    {
      "cell_type": "code",
      "source": [
        "for i in range(len(R)):\n",
        "  s=0\n",
        "  for j in range(5):\n",
        "    if eval(R[i])[0][str(j+1)][\"text\"] == True:\n",
        "      s+=1\n",
        "  S3[i][0]=s"
      ],
      "metadata": {
        "id": "vj0UplZ_9SpK"
      },
      "execution_count": 259,
      "outputs": []
    },
    {
      "cell_type": "code",
      "source": [
        "U1=np.unique(S1)\n",
        "U2=np.unique(S2)\n",
        "U3=np.unique(S3)"
      ],
      "metadata": {
        "id": "pCfIUQ6Q-HHj"
      },
      "execution_count": 260,
      "outputs": []
    },
    {
      "cell_type": "code",
      "source": [
        "P1=[]\n",
        "for i in range(len(U1)):\n",
        "  line = []\n",
        "  P1.append(line)"
      ],
      "metadata": {
        "id": "SGH31ATrBLSu"
      },
      "execution_count": 261,
      "outputs": []
    },
    {
      "cell_type": "code",
      "source": [
        "for i in range(203):\n",
        "  for j in U1:\n",
        "    if S1[i][0]==j:\n",
        "      P1[U1.tolist().index(j)].append(i)"
      ],
      "metadata": {
        "id": "iUgTiT25Y0Oc"
      },
      "execution_count": 262,
      "outputs": []
    },
    {
      "cell_type": "code",
      "source": [
        "print(P1)"
      ],
      "metadata": {
        "colab": {
          "base_uri": "https://localhost:8080/"
        },
        "id": "Y-cbKK6tcUCQ",
        "outputId": "e7db4b3b-22ff-404b-f4f3-26bba3c497cb"
      },
      "execution_count": 263,
      "outputs": [
        {
          "output_type": "stream",
          "name": "stdout",
          "text": [
            "[[94, 129, 137, 142, 159, 167, 182], [8, 63, 73, 120, 138, 198], [100, 132, 143, 146, 157, 161, 174, 181, 189, 194], [2, 10, 28, 34, 58, 60, 62, 67, 75, 76, 90, 121, 126, 133, 147, 151, 166, 170, 173, 183, 196, 197], [0, 1, 6, 12, 13, 16, 18, 19, 21, 26, 27, 31, 33, 36, 39, 40, 42, 44, 48, 49, 53, 54, 59, 61, 64, 65, 66, 71, 72, 77, 78, 79, 80, 84, 86, 89, 93, 97, 99, 101, 104, 105, 106, 109, 112, 114, 115, 116, 122, 123, 128, 130, 131, 135, 139, 141, 144, 145, 148, 149, 150, 152, 153, 154, 155, 156, 162, 168, 175, 178, 184, 187, 190, 191, 192, 193, 195, 199, 200, 202], [3, 4, 5, 7, 9, 11, 14, 15, 17, 20, 22, 23, 24, 25, 29, 30, 32, 35, 37, 38, 41, 43, 45, 46, 47, 50, 51, 52, 55, 56, 57, 68, 69, 70, 74, 81, 82, 83, 85, 87, 88, 91, 92, 95, 96, 98, 102, 103, 107, 108, 110, 111, 113, 117, 118, 119, 124, 125, 127, 134, 136, 140, 158, 160, 163, 164, 165, 169, 171, 172, 176, 177, 179, 180, 185, 186, 188, 201]]\n"
          ]
        }
      ]
    },
    {
      "cell_type": "code",
      "source": [
        "P2=[]\n",
        "for i in range(len(U2)):\n",
        "  line = []\n",
        "  P2.append(line)"
      ],
      "metadata": {
        "id": "KN5BFCbmcWjq"
      },
      "execution_count": 264,
      "outputs": []
    },
    {
      "cell_type": "code",
      "source": [
        "for i in range(203):\n",
        "  for j in U2:\n",
        "    if S2[i][0]==j:\n",
        "      P2[U2.tolist().index(j)].append(i)"
      ],
      "metadata": {
        "id": "VXv_fJTOcbxX"
      },
      "execution_count": 265,
      "outputs": []
    },
    {
      "cell_type": "code",
      "source": [
        "print(P2)"
      ],
      "metadata": {
        "colab": {
          "base_uri": "https://localhost:8080/"
        },
        "id": "oo9nYz3rcg3f",
        "outputId": "436862fd-1fa3-418d-9847-1eee3fadd9c1"
      },
      "execution_count": 266,
      "outputs": [
        {
          "output_type": "stream",
          "name": "stdout",
          "text": [
            "[[0, 3, 4, 5, 7, 9, 10, 11, 14, 15, 16, 17, 20, 22, 23, 24, 25, 26, 29, 30, 32, 34, 35, 37, 38, 40, 41, 43, 45, 46, 47, 50, 51, 52, 53, 55, 56, 57, 61, 62, 68, 69, 70, 74, 75, 77, 79, 81, 82, 83, 84, 85, 87, 88, 89, 91, 92, 95, 96, 97, 98, 102, 103, 105, 107, 108, 110, 111, 112, 113, 114, 117, 118, 119, 124, 125, 127, 130, 134, 136, 140, 142, 144, 147, 158, 160, 163, 164, 165, 169, 170, 171, 172, 175, 176, 177, 179, 180, 185, 186, 188, 191, 200, 201, 202], [1, 2, 6, 12, 13, 18, 19, 21, 27, 31, 33, 36, 39, 42, 44, 48, 49, 54, 59, 60, 64, 65, 66, 71, 72, 76, 78, 80, 86, 90, 93, 99, 101, 104, 106, 109, 115, 116, 121, 122, 123, 126, 128, 131, 132, 133, 135, 139, 141, 143, 145, 148, 149, 150, 151, 152, 153, 154, 155, 156, 157, 162, 166, 168, 173, 178, 183, 184, 187, 189, 190, 192, 193, 194, 195, 197, 198, 199], [28, 58, 63, 67, 73, 100, 129, 137, 138, 146, 159, 161, 174, 181, 182, 196], [94], [8, 120, 167]]\n"
          ]
        }
      ]
    },
    {
      "cell_type": "code",
      "source": [
        "P3=[]\n",
        "for i in range(len(U3)):\n",
        "  line = []\n",
        "  P3.append(line)"
      ],
      "metadata": {
        "id": "eln76h3Vcjvw"
      },
      "execution_count": 267,
      "outputs": []
    },
    {
      "cell_type": "code",
      "source": [
        "for i in range(203):\n",
        "  for j in U3:\n",
        "    if S3[i][0]==j:\n",
        "      P3[U3.tolist().index(j)].append(i)"
      ],
      "metadata": {
        "id": "IThJ61Mqc8gn"
      },
      "execution_count": 268,
      "outputs": []
    },
    {
      "cell_type": "code",
      "source": [
        "print(P3)"
      ],
      "metadata": {
        "colab": {
          "base_uri": "https://localhost:8080/"
        },
        "id": "vEgt_6ucdDD5",
        "outputId": "2fa293fe-d797-465b-d13f-4aa9803ceb0f"
      },
      "execution_count": 269,
      "outputs": [
        {
          "output_type": "stream",
          "name": "stdout",
          "text": [
            "[[1, 3, 4, 5, 6, 7, 8, 9, 11, 12, 13, 14, 15, 17, 18, 19, 20, 21, 22, 23, 24, 25, 27, 28, 29, 30, 31, 32, 33, 35, 36, 37, 38, 39, 41, 42, 43, 44, 45, 46, 47, 48, 49, 50, 51, 52, 54, 55, 56, 57, 58, 59, 64, 65, 66, 67, 68, 69, 70, 71, 72, 74, 78, 80, 81, 82, 83, 85, 86, 87, 88, 91, 92, 93, 95, 96, 98, 99, 101, 102, 103, 104, 106, 107, 108, 109, 110, 111, 113, 115, 116, 117, 118, 119, 120, 122, 123, 124, 125, 127, 128, 131, 134, 135, 136, 139, 140, 141, 145, 148, 149, 150, 152, 153, 154, 155, 156, 158, 160, 162, 163, 164, 165, 168, 169, 171, 172, 176, 177, 178, 179, 180, 184, 185, 186, 187, 188, 190, 192, 193, 195, 196, 199, 201], [0, 2, 16, 26, 40, 53, 60, 61, 76, 77, 79, 84, 89, 90, 97, 100, 105, 112, 114, 121, 126, 130, 133, 144, 146, 151, 161, 166, 167, 173, 174, 175, 181, 183, 191, 197, 200, 202], [10, 34, 62, 63, 73, 75, 94, 132, 138, 143, 147, 157, 170, 189, 194], [129, 137, 159, 182, 198], [142]]\n"
          ]
        }
      ]
    },
    {
      "cell_type": "code",
      "source": [
        "import numpy as np\n",
        "Q1to5 = np.zeros((5,3))"
      ],
      "metadata": {
        "id": "z_ly9FydUwdY"
      },
      "execution_count": 270,
      "outputs": []
    },
    {
      "cell_type": "code",
      "source": [
        "print(len(P2))"
      ],
      "metadata": {
        "colab": {
          "base_uri": "https://localhost:8080/"
        },
        "id": "HCMLnMPSjLD1",
        "outputId": "e52d3d3f-df82-43fe-c2cd-8f6a828e3de3"
      },
      "execution_count": 271,
      "outputs": [
        {
          "output_type": "stream",
          "name": "stdout",
          "text": [
            "5\n"
          ]
        }
      ]
    },
    {
      "cell_type": "code",
      "source": [
        " for i in range(len(R)):\n",
        "   if i in P2[4]:\n",
        "    for j in range(5):\n",
        "       for k in Best:\n",
        "        if eval(R[i])[0][str(j+1)][k] == True:\n",
        "          Q1to5[j][Best.index(k)] += 1"
      ],
      "metadata": {
        "id": "KYy4fvAYfXGg"
      },
      "execution_count": 272,
      "outputs": []
    },
    {
      "cell_type": "code",
      "source": [
        "print(Q1to5)"
      ],
      "metadata": {
        "colab": {
          "base_uri": "https://localhost:8080/"
        },
        "id": "bAdOLjd3fb9H",
        "outputId": "35416dde-db6b-4c9f-f9dc-27eecbc8f3c5"
      },
      "execution_count": 273,
      "outputs": [
        {
          "output_type": "stream",
          "name": "stdout",
          "text": [
            "[[1. 2. 0.]\n",
            " [0. 2. 1.]\n",
            " [0. 3. 0.]\n",
            " [1. 2. 0.]\n",
            " [0. 3. 0.]]\n"
          ]
        }
      ]
    },
    {
      "cell_type": "code",
      "source": [
        " for i in range(len(R)):\n",
        "   if i in P2[3]:\n",
        "    for j in range(5):\n",
        "       for k in Best:\n",
        "        if eval(R[i])[0][str(j+1)][k] == True:\n",
        "          Q1to5[j][Best.index(k)] += 1"
      ],
      "metadata": {
        "id": "9xUSSIHFfhvl"
      },
      "execution_count": 274,
      "outputs": []
    },
    {
      "cell_type": "code",
      "source": [
        "print(Q1to5)"
      ],
      "metadata": {
        "colab": {
          "base_uri": "https://localhost:8080/"
        },
        "id": "Np00kXRYfkO-",
        "outputId": "b78f98e7-78e8-4010-fad3-1ce966577d15"
      },
      "execution_count": 275,
      "outputs": [
        {
          "output_type": "stream",
          "name": "stdout",
          "text": [
            "[[1. 3. 0.]\n",
            " [0. 2. 2.]\n",
            " [0. 3. 1.]\n",
            " [1. 3. 0.]\n",
            " [0. 4. 0.]]\n"
          ]
        }
      ]
    },
    {
      "cell_type": "code",
      "source": [
        " for i in range(len(R)):\n",
        "   if i in P2[2]:\n",
        "    for j in range(5):\n",
        "       for k in Best:\n",
        "        if eval(R[i])[0][str(j+1)][k] == True:\n",
        "          Q1to5[j][Best.index(k)] += 1"
      ],
      "metadata": {
        "id": "_ENEOXkcfoIy"
      },
      "execution_count": 276,
      "outputs": []
    },
    {
      "cell_type": "code",
      "source": [
        "print(Q1to5)"
      ],
      "metadata": {
        "colab": {
          "base_uri": "https://localhost:8080/"
        },
        "id": "c4hIRlEyjbTz",
        "outputId": "6391d89a-228d-44c8-b395-0fd0d0d0481a"
      },
      "execution_count": 277,
      "outputs": [
        {
          "output_type": "stream",
          "name": "stdout",
          "text": [
            "[[ 8.  4.  8.]\n",
            " [ 7.  6.  7.]\n",
            " [ 3.  9.  8.]\n",
            " [ 3. 15.  2.]\n",
            " [ 6. 13.  1.]]\n"
          ]
        }
      ]
    },
    {
      "cell_type": "code",
      "source": [
        "Q1to5= np.array([[ 8.,  4.,  8.],\n",
        " [ 7.,  6.,  7.],\n",
        " [ 3.,  9.,  8.],\n",
        " [ 3., 15.,  2.],\n",
        " [ 6., 13.,  1.]])"
      ],
      "metadata": {
        "id": "H3eihjrFkeFg"
      },
      "execution_count": 312,
      "outputs": []
    },
    {
      "cell_type": "code",
      "source": [
        "print(Q1to5)"
      ],
      "metadata": {
        "colab": {
          "base_uri": "https://localhost:8080/"
        },
        "id": "iWiJEonQk13X",
        "outputId": "b879c35c-e973-406a-96c5-54f6dd1d2b65"
      },
      "execution_count": 358,
      "outputs": [
        {
          "output_type": "stream",
          "name": "stdout",
          "text": [
            "[[ 8.  4.  8.]\n",
            " [ 7.  6.  7.]\n",
            " [ 3.  9.  8.]\n",
            " [ 3. 15.  2.]\n",
            " [ 6. 13.  1.]]\n"
          ]
        }
      ]
    },
    {
      "cell_type": "code",
      "source": [
        "n=0"
      ],
      "metadata": {
        "id": "zk-dRHsLjemC"
      },
      "execution_count": 281,
      "outputs": []
    },
    {
      "cell_type": "code",
      "source": [
        "print(len(P2[1]))"
      ],
      "metadata": {
        "colab": {
          "base_uri": "https://localhost:8080/"
        },
        "id": "KUnxUIfMwR1U",
        "outputId": "c0926bb6-88e0-4554-b148-44bcf5bb3da2"
      },
      "execution_count": 354,
      "outputs": [
        {
          "output_type": "stream",
          "name": "stdout",
          "text": [
            "78\n"
          ]
        }
      ]
    },
    {
      "cell_type": "code",
      "source": [
        "print(P2[1])"
      ],
      "metadata": {
        "colab": {
          "base_uri": "https://localhost:8080/"
        },
        "id": "487V1Dr9k7M0",
        "outputId": "9f9b92ef-8aec-4717-fe80-8c766220e08f"
      },
      "execution_count": 285,
      "outputs": [
        {
          "output_type": "stream",
          "name": "stdout",
          "text": [
            "[1, 2, 6, 12, 13, 18, 19, 21, 27, 31, 33, 36, 39, 42, 44, 48, 49, 54, 59, 60, 64, 65, 66, 71, 72, 76, 78, 80, 86, 90, 93, 99, 101, 104, 106, 109, 115, 116, 121, 122, 123, 126, 128, 131, 132, 133, 135, 139, 141, 143, 145, 148, 149, 150, 151, 152, 153, 154, 155, 156, 157, 162, 166, 168, 173, 178, 183, 184, 187, 189, 190, 192, 193, 194, 195, 197, 198, 199]\n"
          ]
        }
      ]
    },
    {
      "cell_type": "code",
      "source": [
        "print(P2[1][0:3])"
      ],
      "metadata": {
        "colab": {
          "base_uri": "https://localhost:8080/"
        },
        "id": "3IaRTUudwxUg",
        "outputId": "57a262df-cda9-47dc-ed08-b20c4dad00ae"
      },
      "execution_count": 357,
      "outputs": [
        {
          "output_type": "stream",
          "name": "stdout",
          "text": [
            "[1, 2, 6]\n"
          ]
        }
      ]
    },
    {
      "cell_type": "code",
      "source": [
        "print(P2[1][76:78])"
      ],
      "metadata": {
        "colab": {
          "base_uri": "https://localhost:8080/"
        },
        "id": "eY6KFQnTk_m4",
        "outputId": "f33a1e84-2239-42f3-c632-f6b6ed61e7a6"
      },
      "execution_count": 356,
      "outputs": [
        {
          "output_type": "stream",
          "name": "stdout",
          "text": [
            "[198, 199]\n"
          ]
        }
      ]
    },
    {
      "cell_type": "code",
      "source": [
        " for i in range(len(R)):\n",
        "   if i in P2[1][0:30]:\n",
        "    for j in range(5):\n",
        "       for k in Best:\n",
        "        if eval(R[i])[0][str(j+1)][k] == True:\n",
        "          Q1to5[j][Best.index(k)] += 1"
      ],
      "metadata": {
        "id": "cXC9bMoIlPlE"
      },
      "execution_count": 359,
      "outputs": []
    },
    {
      "cell_type": "code",
      "source": [
        "print(Q1to5)"
      ],
      "metadata": {
        "colab": {
          "base_uri": "https://localhost:8080/"
        },
        "id": "mGNqICk3w_sB",
        "outputId": "2827a1b8-ca5c-4502-ed52-da754547215d"
      },
      "execution_count": 361,
      "outputs": [
        {
          "output_type": "stream",
          "name": "stdout",
          "text": [
            "[[37.  4.  9.]\n",
            " [37.  6.  7.]\n",
            " [32. 10.  8.]\n",
            " [28. 18.  4.]\n",
            " [ 9. 39.  2.]]\n"
          ]
        }
      ]
    },
    {
      "cell_type": "code",
      "source": [
        "print(sum(Q1to5[:,2])/(sum(Q1to5[0,:])*5))\n",
        "print(sum(Q1to5[:,1])/(sum(Q1to5[0,:])*5))\n",
        "print(sum(Q1to5[:,0])/(sum(Q1to5[0,:])*5))"
      ],
      "metadata": {
        "colab": {
          "base_uri": "https://localhost:8080/"
        },
        "id": "8kjLR0oXyW-T",
        "outputId": "3108eaaf-b5b0-4c13-9d11-dd08205a5d66"
      },
      "execution_count": 362,
      "outputs": [
        {
          "output_type": "stream",
          "name": "stdout",
          "text": [
            "0.12\n",
            "0.308\n",
            "0.572\n"
          ]
        }
      ]
    },
    {
      "cell_type": "code",
      "source": [
        " for i in range(len(R)):\n",
        "   if i in P2[1][0:28]:\n",
        "    for j in range(5):\n",
        "       for k in Best:\n",
        "        if eval(R[i])[0][str(j+1)][k] == True:\n",
        "          Q1to5[j][Best.index(k)] += 1"
      ],
      "metadata": {
        "id": "2oWmcfdWyaeu"
      },
      "execution_count": 364,
      "outputs": []
    },
    {
      "cell_type": "code",
      "source": [
        "for i in range(len(R)):\n",
        "  if i in P1[5][0:2]:\n",
        "    for j in range(5):\n",
        "      for k in Best:\n",
        "        if eval(R[i])[0][str(j+1)][k] == True:\n",
        "          Q1to5[j][Best.index(k)] += 1"
      ],
      "metadata": {
        "id": "j2Bm36aByZRM"
      },
      "execution_count": 365,
      "outputs": []
    },
    {
      "cell_type": "code",
      "source": [
        "print(Q1to5)"
      ],
      "metadata": {
        "colab": {
          "base_uri": "https://localhost:8080/"
        },
        "id": "7rTExRslyj4U",
        "outputId": "89e9098d-0458-46e4-94dd-0ac367c18c0e"
      },
      "execution_count": 367,
      "outputs": [
        {
          "output_type": "stream",
          "name": "stdout",
          "text": [
            "[[37.  4.  9.]\n",
            " [37.  6.  7.]\n",
            " [32. 10.  8.]\n",
            " [29. 18.  3.]\n",
            " [11. 37.  2.]]\n"
          ]
        }
      ]
    },
    {
      "cell_type": "code",
      "source": [
        "print(sum(Q1to5[:,2])/(sum(Q1to5[0,:])*5))\n",
        "print(sum(Q1to5[:,1])/(sum(Q1to5[0,:])*5))\n",
        "print(sum(Q1to5[:,0])/(sum(Q1to5[0,:])*5))"
      ],
      "metadata": {
        "colab": {
          "base_uri": "https://localhost:8080/"
        },
        "id": "xeI7KQm8ygbg",
        "outputId": "0991123b-d5df-43ab-c695-d058f382502b"
      },
      "execution_count": 366,
      "outputs": [
        {
          "output_type": "stream",
          "name": "stdout",
          "text": [
            "0.116\n",
            "0.3\n",
            "0.584\n"
          ]
        }
      ]
    },
    {
      "cell_type": "code",
      "source": [
        ""
      ],
      "metadata": {
        "id": "1DsGSXlGyjGR"
      },
      "execution_count": null,
      "outputs": []
    },
    {
      "cell_type": "code",
      "source": [
        "Q1to5= np.array([[ 8.,  4.,  8.],\n",
        " [ 7.,  6.,  7.],\n",
        " [ 3.,  9.,  8.],\n",
        " [ 3., 15.,  2.],\n",
        " [ 6., 13.,  1.]])"
      ],
      "metadata": {
        "id": "vnC4UT8fyRB2"
      },
      "execution_count": 363,
      "outputs": []
    },
    {
      "cell_type": "code",
      "source": [
        "for i in range(len(R)):\n",
        "  if i in P1[5][0:2]:\n",
        "    for j in range(5):\n",
        "      for k in Best:\n",
        "        if eval(R[i])[0][str(j+1)][k] == True:\n",
        "          Q1to5[j][Best.index(k)] += 1"
      ],
      "metadata": {
        "id": "VubqrVoGyANx"
      },
      "execution_count": null,
      "outputs": []
    },
    {
      "cell_type": "code",
      "source": [
        " for i in range(len(R)):\n",
        "   if i in P2[1][0:30]:\n",
        "    for j in range(5):\n",
        "       for k in Best:\n",
        "        if eval(R[i])[0][str(j+1)][k] == True:\n",
        "          Q1to5[j][Best.index(k)] += 1"
      ],
      "metadata": {
        "id": "h1lWSrFPxm7C"
      },
      "execution_count": null,
      "outputs": []
    },
    {
      "cell_type": "code",
      "source": [
        ""
      ],
      "metadata": {
        "id": "gXBqsZNNyBOZ"
      },
      "execution_count": null,
      "outputs": []
    },
    {
      "cell_type": "code",
      "source": [
        "Q1to5= np.array([[ 8.,  4.,  8.],\n",
        " [ 7.,  6.,  7.],\n",
        " [ 3.,  9.,  8.],\n",
        " [ 3., 15.,  2.],\n",
        " [ 6., 13.,  1.]])"
      ],
      "metadata": {
        "id": "C6aboCY0mZth"
      },
      "execution_count": 342,
      "outputs": []
    },
    {
      "cell_type": "code",
      "source": [
        "print(Q1to5)"
      ],
      "metadata": {
        "colab": {
          "base_uri": "https://localhost:8080/"
        },
        "id": "CQG4oX3ymfBe",
        "outputId": "b9cd1559-d6ef-4ae8-9491-414eb6e15417"
      },
      "execution_count": 344,
      "outputs": [
        {
          "output_type": "stream",
          "name": "stdout",
          "text": [
            "[[37.  4.  9.]\n",
            " [37.  6.  7.]\n",
            " [32. 10.  8.]\n",
            " [28. 18.  4.]\n",
            " [ 9. 39.  2.]]\n"
          ]
        }
      ]
    },
    {
      "cell_type": "code",
      "source": [
        "print(sum(Q1to5[:,2])/(sum(Q1to5[0,:])*5))\n",
        "print(sum(Q1to5[:,1])/(sum(Q1to5[0,:])*5))\n",
        "print(sum(Q1to5[:,0])/(sum(Q1to5[0,:])*5))"
      ],
      "metadata": {
        "colab": {
          "base_uri": "https://localhost:8080/"
        },
        "id": "kWKvKZ7iuqIp",
        "outputId": "c55cc7a1-6730-4b93-c914-092a72af6172"
      },
      "execution_count": 345,
      "outputs": [
        {
          "output_type": "stream",
          "name": "stdout",
          "text": [
            "0.12\n",
            "0.308\n",
            "0.572\n"
          ]
        }
      ]
    },
    {
      "cell_type": "code",
      "source": [
        ""
      ],
      "metadata": {
        "id": "Dy6YG9Mnwt9h"
      },
      "execution_count": null,
      "outputs": []
    },
    {
      "cell_type": "code",
      "source": [
        "Q1to5= np.array([[ 8.,  4.,  8.],\n",
        " [ 7.,  6.,  7.],\n",
        " [ 3.,  9.,  8.],\n",
        " [ 3., 15.,  2.],\n",
        " [ 6., 13.,  1.]])"
      ],
      "metadata": {
        "id": "TP8XomFluuSA"
      },
      "execution_count": 350,
      "outputs": []
    },
    {
      "cell_type": "code",
      "source": [
        "for i in range(len(R)):\n",
        "  if i in P2[1][3:33]:\n",
        "    for j in range(5):\n",
        "      for k in Best:\n",
        "        if eval(R[i])[0][str(j+1)][k] == True:\n",
        "          Q1to5[j][Best.index(k)] += 1"
      ],
      "metadata": {
        "id": "gaXzs_Gcuwt6"
      },
      "execution_count": 347,
      "outputs": []
    },
    {
      "cell_type": "code",
      "source": [
        "print(Q1to5)"
      ],
      "metadata": {
        "colab": {
          "base_uri": "https://localhost:8080/"
        },
        "id": "Eb3ygSZpvJJY",
        "outputId": "a3921c1a-d700-4040-8d74-5f248823a8fe"
      },
      "execution_count": 349,
      "outputs": [
        {
          "output_type": "stream",
          "name": "stdout",
          "text": [
            "[[37.  4.  9.]\n",
            " [37.  6.  7.]\n",
            " [32. 10.  8.]\n",
            " [29. 18.  3.]\n",
            " [ 9. 39.  2.]]\n"
          ]
        }
      ]
    },
    {
      "cell_type": "code",
      "source": [
        "print(sum(Q1to5[:,2])/(sum(Q1to5[0,:])*5))\n",
        "print(sum(Q1to5[:,1])/(sum(Q1to5[0,:])*5))\n",
        "print(sum(Q1to5[:,0])/(sum(Q1to5[0,:])*5))"
      ],
      "metadata": {
        "colab": {
          "base_uri": "https://localhost:8080/"
        },
        "id": "QrJN21slu8Ly",
        "outputId": "d04d0795-4088-4a50-da4e-16c1f0dbae13"
      },
      "execution_count": 348,
      "outputs": [
        {
          "output_type": "stream",
          "name": "stdout",
          "text": [
            "0.116\n",
            "0.308\n",
            "0.576\n"
          ]
        }
      ]
    },
    {
      "cell_type": "code",
      "source": [
        "for i in range(len(R)):\n",
        "  if i in P2[1][3:33]:\n",
        "    for j in range(5):\n",
        "      for k in Best:\n",
        "        if eval(R[i])[0][str(j+1)][k] == True:\n",
        "          Q1to5[j][Best.index(k)] += 1"
      ],
      "metadata": {
        "id": "Hp0KUy0twHjg"
      },
      "execution_count": null,
      "outputs": []
    },
    {
      "cell_type": "code",
      "source": [
        "print(Q1to5)"
      ],
      "metadata": {
        "colab": {
          "base_uri": "https://localhost:8080/"
        },
        "id": "bBYjKNHFnCQ7",
        "outputId": "4f1f1e28-53d5-43a3-ea44-abd3d09ba9ba"
      },
      "execution_count": 351,
      "outputs": [
        {
          "output_type": "stream",
          "name": "stdout",
          "text": [
            "[[ 8.  4.  8.]\n",
            " [ 7.  6.  7.]\n",
            " [ 3.  9.  8.]\n",
            " [ 3. 15.  2.]\n",
            " [ 6. 13.  1.]]\n"
          ]
        }
      ]
    },
    {
      "cell_type": "code",
      "source": [
        "print(sum(Q1to5[:,2])/(sum(Q1to5[0,:])*5))\n",
        "print(sum(Q1to5[:,1])/(sum(Q1to5[0,:])*5))\n",
        "print(sum(Q1to5[:,0])/(sum(Q1to5[0,:])*5))"
      ],
      "metadata": {
        "colab": {
          "base_uri": "https://localhost:8080/"
        },
        "id": "tFq9ZTNMr-kN",
        "outputId": "fd78a366-c1a5-4c0a-bc36-bcae4407ab79"
      },
      "execution_count": 332,
      "outputs": [
        {
          "output_type": "stream",
          "name": "stdout",
          "text": [
            "0.11153846153846154\n",
            "0.29615384615384616\n",
            "0.5923076923076923\n"
          ]
        }
      ]
    },
    {
      "cell_type": "code",
      "source": [
        ""
      ],
      "metadata": {
        "id": "6zZqyxYbvyRH"
      },
      "execution_count": null,
      "outputs": []
    },
    {
      "cell_type": "code",
      "source": [
        "print(sum(Q1to5[:,1])"
      ],
      "metadata": {
        "colab": {
          "base_uri": "https://localhost:8080/",
          "height": 135
        },
        "id": "ae0ouqprt0lX",
        "outputId": "8755573d-a6ba-40c2-df14-d0c748d95983"
      },
      "execution_count": 335,
      "outputs": [
        {
          "output_type": "error",
          "ename": "SyntaxError",
          "evalue": "ignored",
          "traceback": [
            "\u001b[0;36m  File \u001b[0;32m\"<ipython-input-335-79897533c2b1>\"\u001b[0;36m, line \u001b[0;32m1\u001b[0m\n\u001b[0;31m    print(sum(Q1to5[:,1])\u001b[0m\n\u001b[0m                         ^\u001b[0m\n\u001b[0;31mSyntaxError\u001b[0m\u001b[0;31m:\u001b[0m unexpected EOF while parsing\n"
          ]
        }
      ]
    },
    {
      "cell_type": "code",
      "source": [
        "print(sum(Q1to5[:,2])/(sum(Q1to5[0,:])*5))\n",
        "print(sum(Q1to5[:,1])/(sum(Q1to5[:,1])*5))\n",
        "print(sum(Q1to5[:,0])/(sum(Q1to5[0,:])*5))"
      ],
      "metadata": {
        "colab": {
          "base_uri": "https://localhost:8080/"
        },
        "id": "TdvCiZOxqoHg",
        "outputId": "bf6cce00-5c1d-4e4c-b5f7-c97d7e2c3563"
      },
      "execution_count": 338,
      "outputs": [
        {
          "output_type": "stream",
          "name": "stdout",
          "text": [
            "0.11153846153846154\n",
            "0.2\n",
            "0.5923076923076923\n"
          ]
        }
      ]
    },
    {
      "cell_type": "code",
      "source": [
        "for i in range(len(R)):\n",
        "  if i in P1[5][0:2]:\n",
        "    for j in range(5):\n",
        "      for k in Best:\n",
        "        if eval(R[i])[0][str(j+1)][k] == True:\n",
        "          Q1to5[j][Best.index(k)] += 1"
      ],
      "metadata": {
        "id": "V6UfGCHQmpCe"
      },
      "execution_count": 329,
      "outputs": []
    },
    {
      "cell_type": "code",
      "source": [
        ""
      ],
      "metadata": {
        "id": "UweYMYKXnPfS"
      },
      "execution_count": null,
      "outputs": []
    },
    {
      "cell_type": "code",
      "source": [
        "print(Q1to5)"
      ],
      "metadata": {
        "colab": {
          "base_uri": "https://localhost:8080/"
        },
        "id": "LfzXF4WTlVZb",
        "outputId": "f5205606-1e81-49d9-c266-4add8a5369d6"
      },
      "execution_count": 289,
      "outputs": [
        {
          "output_type": "stream",
          "name": "stdout",
          "text": [
            "[[37.  4.  9.]\n",
            " [37.  6.  7.]\n",
            " [32. 10.  8.]\n",
            " [28. 18.  4.]\n",
            " [ 9. 39.  2.]]\n"
          ]
        }
      ]
    },
    {
      "cell_type": "code",
      "source": [
        "for i in range(len(R)):\n",
        "  if i in P1[5][0:2]:\n",
        "    for j in range(5):\n",
        "      for k in Best:\n",
        "        if eval(R[i])[0][str(j+1)][k] == True:\n",
        "          Q1to5[j][Best.index(k)] += 1"
      ],
      "metadata": {
        "id": "EjvelvCCphiH"
      },
      "execution_count": null,
      "outputs": []
    },
    {
      "cell_type": "code",
      "source": [
        "print(sum(Q1to5[:,2])/(sum(Q1to5[0,:])*5))\n",
        "print(sum(Q1to5[:,1])/(sum(Q1to5[0,:])*5))\n",
        "print(sum(Q1to5[:,0])/(sum(Q1to5[0,:])*5))"
      ],
      "metadata": {
        "colab": {
          "base_uri": "https://localhost:8080/"
        },
        "id": "NVWTJJ9_o3Xv",
        "outputId": "15382634-3e0d-402c-a8c9-233cb91309b7"
      },
      "execution_count": 309,
      "outputs": [
        {
          "output_type": "stream",
          "name": "stdout",
          "text": [
            "0.168\n",
            "0.308\n",
            "0.524\n"
          ]
        }
      ]
    },
    {
      "cell_type": "code",
      "source": [
        "print(sum(Q1to5[:,2])/(sum(Q1to5[0,:])*5))\n",
        "print(sum(Q1to5[:,1])/(sum(Q1to5[0,:])*5))\n",
        "print(sum(Q1to5[:,0])/(sum(Q1to5[0,:])*5))"
      ],
      "metadata": {
        "colab": {
          "base_uri": "https://localhost:8080/"
        },
        "id": "x9dcCjg1nVfM",
        "outputId": "e928c20f-ec84-47d1-e85c-8c555adee7e3"
      },
      "execution_count": 301,
      "outputs": [
        {
          "output_type": "stream",
          "name": "stdout",
          "text": [
            "0.116\n",
            "0.3\n",
            "0.584\n"
          ]
        }
      ]
    },
    {
      "cell_type": "code",
      "source": [
        "import numpy as np\n",
        "Q6 = np.zeros((30,4))"
      ],
      "metadata": {
        "id": "ZDmzkbYYzUyG"
      },
      "execution_count": 378,
      "outputs": []
    },
    {
      "cell_type": "code",
      "source": [
        "for i in range(len(R)):\n",
        "  if i in P1[5][0:2]:\n",
        "    for j in range(6,36):\n",
        "      for k in Sound:\n",
        "        if eval(R[i])[0][str(j)][k] == True:\n",
        "          Q6[j-6][Sound.index(k)] += 1"
      ],
      "metadata": {
        "id": "J9VX8ZFTnVYz"
      },
      "execution_count": 379,
      "outputs": []
    },
    {
      "cell_type": "code",
      "source": [
        "for i in range(len(R)):\n",
        "  if i in P2[1][0:28]:\n",
        "    for j in range(6,36):\n",
        "      for k in Sound:\n",
        "        if eval(R[i])[0][str(j)][k] == True:\n",
        "          Q6[j-6][Sound.index(k)] += 1"
      ],
      "metadata": {
        "id": "J9fFD5EFzslT"
      },
      "execution_count": 380,
      "outputs": []
    },
    {
      "cell_type": "code",
      "source": [
        "for i in range(len(R)):\n",
        "  if i in P2[4]:\n",
        "    for j in range(6,36):\n",
        "      for k in Sound:\n",
        "        if eval(R[i])[0][str(j)][k] == True:\n",
        "          Q6[j-6][Sound.index(k)] += 1"
      ],
      "metadata": {
        "id": "z7KK5UeR0U7Q"
      },
      "execution_count": 386,
      "outputs": []
    },
    {
      "cell_type": "code",
      "source": [
        "print(Q6)"
      ],
      "metadata": {
        "colab": {
          "base_uri": "https://localhost:8080/"
        },
        "id": "qxufw9f2mUYb",
        "outputId": "59b939f9-2f76-4e8e-8775-085d9360f775"
      },
      "execution_count": 387,
      "outputs": [
        {
          "output_type": "stream",
          "name": "stdout",
          "text": [
            "[[14. 26.  2.  8.]\n",
            " [19. 28.  2.  1.]\n",
            " [19. 31.  0.  0.]\n",
            " [ 4.  0.  5. 41.]\n",
            " [13.  2.  6. 29.]\n",
            " [ 3.  2. 19. 26.]\n",
            " [ 4.  1. 23. 22.]\n",
            " [ 4.  2. 34. 10.]\n",
            " [ 7. 38.  2.  3.]\n",
            " [11. 35.  3.  1.]\n",
            " [11.  5. 18. 16.]\n",
            " [ 7. 16. 23.  4.]\n",
            " [14.  0.  4. 32.]\n",
            " [16.  9. 13. 12.]\n",
            " [10.  4. 16. 20.]\n",
            " [12.  3. 10. 25.]\n",
            " [ 4.  3. 15. 28.]\n",
            " [ 1.  2.  2. 45.]\n",
            " [12.  4.  8. 26.]\n",
            " [ 3.  3.  1. 43.]\n",
            " [19. 28.  0.  3.]\n",
            " [18.  8.  7. 17.]\n",
            " [24. 24.  1.  1.]\n",
            " [ 1.  2.  4. 43.]\n",
            " [ 1.  1.  2. 46.]\n",
            " [ 2.  2.  1. 45.]\n",
            " [ 7.  2. 28. 13.]\n",
            " [ 3.  2. 39.  6.]\n",
            " [10.  3. 13. 24.]\n",
            " [10. 11. 24.  5.]]\n"
          ]
        }
      ]
    },
    {
      "cell_type": "code",
      "source": [
        "Q6[6:8,2]"
      ],
      "metadata": {
        "colab": {
          "base_uri": "https://localhost:8080/"
        },
        "id": "erRK-7CD2Eu-",
        "outputId": "1321d188-11e9-4489-e313-97b2ab29f717"
      },
      "execution_count": 392,
      "outputs": [
        {
          "output_type": "execute_result",
          "data": {
            "text/plain": [
              "array([23., 34.])"
            ]
          },
          "metadata": {},
          "execution_count": 392
        }
      ]
    },
    {
      "cell_type": "code",
      "source": [
        "sum(Q6[0:3,0])+ sum(Q6[3:6,3]) +sum(Q6[6:8,2])+ sum(Q6[8:10,1])"
      ],
      "metadata": {
        "colab": {
          "base_uri": "https://localhost:8080/"
        },
        "id": "u83gEYeQ1sEE",
        "outputId": "f674be6f-9b8c-426f-f6e5-7211ae5773b8"
      },
      "execution_count": 393,
      "outputs": [
        {
          "output_type": "execute_result",
          "data": {
            "text/plain": [
              "278.0"
            ]
          },
          "metadata": {},
          "execution_count": 393
        }
      ]
    },
    {
      "cell_type": "code",
      "source": [
        "278/(50*10)"
      ],
      "metadata": {
        "colab": {
          "base_uri": "https://localhost:8080/"
        },
        "id": "GeWwOSbd2lGG",
        "outputId": "ca5f57e8-bcd0-4a7b-fe84-d50b9a4fe620"
      },
      "execution_count": 394,
      "outputs": [
        {
          "output_type": "execute_result",
          "data": {
            "text/plain": [
              "0.556"
            ]
          },
          "metadata": {},
          "execution_count": 394
        }
      ]
    },
    {
      "cell_type": "code",
      "source": [
        "sum(Q6[10:13,0])+ sum(Q6[13:16,3]) +sum(Q6[16:18,2])+ sum(Q6[18:20,1])"
      ],
      "metadata": {
        "colab": {
          "base_uri": "https://localhost:8080/"
        },
        "id": "akJdfThk2qcb",
        "outputId": "0f11a7f4-4a77-42ea-b5aa-f91667825a60"
      },
      "execution_count": 395,
      "outputs": [
        {
          "output_type": "execute_result",
          "data": {
            "text/plain": [
              "113.0"
            ]
          },
          "metadata": {},
          "execution_count": 395
        }
      ]
    },
    {
      "cell_type": "code",
      "source": [
        "113/(50*10)"
      ],
      "metadata": {
        "colab": {
          "base_uri": "https://localhost:8080/"
        },
        "id": "mn1M8H7z2xjU",
        "outputId": "30d1c4d5-3e5d-436b-fa14-ed7e361e8543"
      },
      "execution_count": 396,
      "outputs": [
        {
          "output_type": "execute_result",
          "data": {
            "text/plain": [
              "0.226"
            ]
          },
          "metadata": {},
          "execution_count": 396
        }
      ]
    },
    {
      "cell_type": "code",
      "source": [
        "sum(Q6[20:23,0])+ sum(Q6[23:26,3]) +sum(Q6[26:28,2])+ sum(Q6[28:30,1])"
      ],
      "metadata": {
        "colab": {
          "base_uri": "https://localhost:8080/"
        },
        "id": "vfIjl0361r8T",
        "outputId": "49ad6abb-8ded-4ec9-e5fd-0570667a841c"
      },
      "execution_count": 397,
      "outputs": [
        {
          "output_type": "execute_result",
          "data": {
            "text/plain": [
              "276.0"
            ]
          },
          "metadata": {},
          "execution_count": 397
        }
      ]
    },
    {
      "cell_type": "code",
      "source": [
        "276/500"
      ],
      "metadata": {
        "colab": {
          "base_uri": "https://localhost:8080/"
        },
        "id": "uSAN6u_327-N",
        "outputId": "3468ec65-9c7a-4361-cbb3-0be917791e19"
      },
      "execution_count": 398,
      "outputs": [
        {
          "output_type": "execute_result",
          "data": {
            "text/plain": [
              "0.552"
            ]
          },
          "metadata": {},
          "execution_count": 398
        }
      ]
    },
    {
      "cell_type": "code",
      "source": [
        "19+18+24+11+3+39+28+45+46+43"
      ],
      "metadata": {
        "colab": {
          "base_uri": "https://localhost:8080/"
        },
        "id": "B9Bs_U9Z3LVg",
        "outputId": "45558936-fca7-4d28-e851-440d1d7776c7"
      },
      "execution_count": 399,
      "outputs": [
        {
          "output_type": "execute_result",
          "data": {
            "text/plain": [
              "276"
            ]
          },
          "metadata": {},
          "execution_count": 399
        }
      ]
    },
    {
      "cell_type": "code",
      "source": [
        "(19+18+24+11+3+39+28+45+46+43)/(50*10)"
      ],
      "metadata": {
        "colab": {
          "base_uri": "https://localhost:8080/"
        },
        "id": "AG9B5QQf0k9D",
        "outputId": "c4f06c75-5cc7-4e79-9792-de1fc5c56e96"
      },
      "execution_count": 388,
      "outputs": [
        {
          "output_type": "execute_result",
          "data": {
            "text/plain": [
              "55.199999999999996"
            ]
          },
          "metadata": {},
          "execution_count": 388
        }
      ]
    },
    {
      "cell_type": "code",
      "source": [
        ""
      ],
      "metadata": {
        "id": "EL2RVp0R0jEs"
      },
      "execution_count": null,
      "outputs": []
    },
    {
      "cell_type": "code",
      "source": [
        "print(sum(Q1to5[:,2])/(sum(Q1to5[0,:])*5))"
      ],
      "metadata": {
        "colab": {
          "base_uri": "https://localhost:8080/"
        },
        "id": "Et0daLxAlZGI",
        "outputId": "573cf40c-8f86-41fb-c814-1805335ae751"
      },
      "execution_count": 290,
      "outputs": [
        {
          "output_type": "stream",
          "name": "stdout",
          "text": [
            "0.12\n"
          ]
        }
      ]
    },
    {
      "cell_type": "code",
      "source": [
        "print(sum(Q1to5[:,1])/(sum(Q1to5[0,:])*5))"
      ],
      "metadata": {
        "colab": {
          "base_uri": "https://localhost:8080/"
        },
        "id": "U4X8NEwOlb5U",
        "outputId": "bc0432e8-91df-4338-bebe-8a9a4bf2d5d1"
      },
      "execution_count": 291,
      "outputs": [
        {
          "output_type": "stream",
          "name": "stdout",
          "text": [
            "0.308\n"
          ]
        }
      ]
    },
    {
      "cell_type": "code",
      "source": [
        "print(sum(Q1to5[:,0])/(sum(Q1to5[0,:])*5))"
      ],
      "metadata": {
        "colab": {
          "base_uri": "https://localhost:8080/"
        },
        "id": "GOK48DVmlfsW",
        "outputId": "b7e7bfe5-d5c3-45fa-ba9f-528d5a0c6a6b"
      },
      "execution_count": 292,
      "outputs": [
        {
          "output_type": "stream",
          "name": "stdout",
          "text": [
            "0.572\n"
          ]
        }
      ]
    },
    {
      "cell_type": "code",
      "source": [
        "for i in range(len(R)):\n",
        "  if i in P2[1][0:30]:\n",
        "    for j in range(5):\n",
        "      for k in Best:\n",
        "      if eval(R[i])[0][str(j+1)][k] == True:\n",
        "          Q1to5[j][Best.index(k)] += 1"
      ],
      "metadata": {
        "id": "UXLQtG5WmPhQ"
      },
      "execution_count": null,
      "outputs": []
    },
    {
      "cell_type": "code",
      "source": [
        "\n",
        "for i in range(len(R)):\n",
        "  if i in P2[1][0:30]:\n",
        "    for j in range(5):\n",
        "      for k in Best:\n",
        "      if eval(R[i])[0][str(j+1)][k] == True:\n",
        "          Q1to5[j][Best.index(k)] += 1"
      ],
      "metadata": {
        "id": "zP4HGTOUfswP"
      },
      "execution_count": 279,
      "outputs": []
    },
    {
      "cell_type": "code",
      "source": [
        "print(Q1to5)"
      ],
      "metadata": {
        "colab": {
          "base_uri": "https://localhost:8080/"
        },
        "id": "mBJ9otPKkTjw",
        "outputId": "2a18fb68-f5ea-49d5-93c0-782716312dc3"
      },
      "execution_count": 280,
      "outputs": [
        {
          "output_type": "stream",
          "name": "stdout",
          "text": [
            "[[78.  5. 15.]\n",
            " [82.  8.  8.]\n",
            " [72. 11. 15.]\n",
            " [66. 24.  8.]\n",
            " [16. 77.  5.]]\n"
          ]
        }
      ]
    },
    {
      "cell_type": "code",
      "source": [
        ""
      ],
      "metadata": {
        "id": "qWF-nP6siR6F"
      },
      "execution_count": null,
      "outputs": []
    },
    {
      "cell_type": "code",
      "source": [
        "print(Q1to5)"
      ],
      "metadata": {
        "colab": {
          "base_uri": "https://localhost:8080/"
        },
        "id": "Rx89FoQdfxS3",
        "outputId": "bca4759c-4cc2-4ab3-f941-b593291e3203"
      },
      "execution_count": 236,
      "outputs": [
        {
          "output_type": "stream",
          "name": "stdout",
          "text": [
            "[[78.  5. 15.]\n",
            " [82.  8.  8.]\n",
            " [72. 11. 15.]\n",
            " [66. 24.  8.]\n",
            " [16. 77.  5.]]\n"
          ]
        }
      ]
    },
    {
      "cell_type": "code",
      "source": [
        "print(sum(Q1to5[:,2])/(sum(Q1to5[0,:])*5))"
      ],
      "metadata": {
        "colab": {
          "base_uri": "https://localhost:8080/"
        },
        "id": "d0HRvU0wiFkR",
        "outputId": "ba424a1e-b527-43ed-9d1b-d8bfd486d513"
      },
      "execution_count": 249,
      "outputs": [
        {
          "output_type": "stream",
          "name": "stdout",
          "text": [
            "0.10408163265306122\n"
          ]
        }
      ]
    },
    {
      "cell_type": "code",
      "source": [
        "print(sum(Q1to5[0,:]))"
      ],
      "metadata": {
        "colab": {
          "base_uri": "https://localhost:8080/"
        },
        "id": "cs2XBiKkgy_v",
        "outputId": "3353e029-3afa-46fa-b661-3134169a42ea"
      },
      "execution_count": 243,
      "outputs": [
        {
          "output_type": "stream",
          "name": "stdout",
          "text": [
            "98.0\n"
          ]
        }
      ]
    },
    {
      "cell_type": "code",
      "source": [
        "print(sum(Q1to5[:,1])/(sum(Q1to5[0,:])*5))"
      ],
      "metadata": {
        "colab": {
          "base_uri": "https://localhost:8080/"
        },
        "id": "q3k81iZOgm3p",
        "outputId": "5b6fe9a0-fbbe-4390-f87d-f744019236ff"
      },
      "execution_count": 244,
      "outputs": [
        {
          "output_type": "stream",
          "name": "stdout",
          "text": [
            "0.25510204081632654\n"
          ]
        }
      ]
    },
    {
      "cell_type": "code",
      "source": [
        ""
      ],
      "metadata": {
        "id": "0fRn0EzkgrpI"
      },
      "execution_count": null,
      "outputs": []
    },
    {
      "cell_type": "code",
      "source": [
        "print(Q1to5[:,1])"
      ],
      "metadata": {
        "colab": {
          "base_uri": "https://localhost:8080/"
        },
        "id": "ftqkac94gK_o",
        "outputId": "f9d15e57-a34f-4c2d-f1f2-02618a948f1f"
      },
      "execution_count": 241,
      "outputs": [
        {
          "output_type": "stream",
          "name": "stdout",
          "text": [
            "[ 5.  8. 11. 24. 77.]\n"
          ]
        }
      ]
    },
    {
      "cell_type": "code",
      "source": [
        ""
      ],
      "metadata": {
        "id": "LH29sUlDgHfO"
      },
      "execution_count": null,
      "outputs": []
    },
    {
      "cell_type": "code",
      "source": [
        " for i in range(len(R)):\n",
        "   #for l in range(len(U2),-1,-1):\n",
        "  if i in P2[len(U2)-1]:\n",
        "    for j in range(5):\n",
        "       for k in Best:\n",
        "        if eval(R[i])[0][str(j+1)][k] == True:\n",
        "          Q1to5[j][Best.index(k)] += 1\n"
      ],
      "metadata": {
        "id": "z1ZBmoE9ddLg"
      },
      "execution_count": 224,
      "outputs": []
    },
    {
      "cell_type": "code",
      "source": [
        "print(Q1to5)"
      ],
      "metadata": {
        "colab": {
          "base_uri": "https://localhost:8080/"
        },
        "id": "oa1aO5tdeMUw",
        "outputId": "059919a8-abda-4cde-cd66-dcab26df313b"
      },
      "execution_count": 225,
      "outputs": [
        {
          "output_type": "stream",
          "name": "stdout",
          "text": [
            "[[1. 2. 0.]\n",
            " [0. 2. 1.]\n",
            " [0. 3. 0.]\n",
            " [1. 2. 0.]\n",
            " [0. 3. 0.]]\n"
          ]
        }
      ]
    },
    {
      "cell_type": "code",
      "source": [
        ""
      ],
      "metadata": {
        "id": "fuCLJsG_em_k"
      },
      "execution_count": null,
      "outputs": []
    },
    {
      "cell_type": "code",
      "source": [
        "for i in range(len(R)):\n",
        "  for j in range(5):\n",
        "    for k in Best:\n",
        "      if eval(R[i])[0][str(j+1)][k] == True:\n",
        "        Q1to5[j][Best.index(k)] += 1"
      ],
      "metadata": {
        "id": "_W-yHvx0ljG4"
      },
      "execution_count": 141,
      "outputs": []
    },
    {
      "cell_type": "code",
      "source": [
        "print(Q1to5)"
      ],
      "metadata": {
        "colab": {
          "base_uri": "https://localhost:8080/"
        },
        "id": "4xofINVVeYh7",
        "outputId": "b2d6bec4-8946-4e69-b463-3744885ecb03"
      },
      "execution_count": 142,
      "outputs": [
        {
          "output_type": "stream",
          "name": "stdout",
          "text": [
            "[[180.   5.  18.]\n",
            " [182.   8.  13.]\n",
            " [174.  11.  18.]\n",
            " [160.  24.  19.]\n",
            " [106.  77.  20.]]\n"
          ]
        }
      ]
    },
    {
      "cell_type": "code",
      "source": [
        "print(Q1to5)"
      ],
      "metadata": {
        "colab": {
          "base_uri": "https://localhost:8080/"
        },
        "id": "tayw1cT4Xb_H",
        "outputId": "188451cc-c634-4bce-db9c-cdea3d0a87a2"
      },
      "execution_count": 96,
      "outputs": [
        {
          "output_type": "stream",
          "name": "stdout",
          "text": [
            "[[81.  5. 14.]\n",
            " [84.  8.  8.]\n",
            " [75. 11. 14.]\n",
            " [68. 23.  9.]\n",
            " [22. 73.  5.]]\n"
          ]
        }
      ]
    },
    {
      "cell_type": "code",
      "source": [
        "print(Q1to5)"
      ],
      "metadata": {
        "colab": {
          "base_uri": "https://localhost:8080/"
        },
        "id": "Kc7j1PuXnJxg",
        "outputId": "42628c64-9865-47cc-a0ab-231bf9379eb3"
      },
      "execution_count": 77,
      "outputs": [
        {
          "output_type": "stream",
          "name": "stdout",
          "text": [
            "[[81.  5. 14.]\n",
            " [84.  8.  8.]\n",
            " [75. 11. 14.]\n",
            " [69. 23.  8.]\n",
            " [22. 73.  5.]]\n"
          ]
        }
      ]
    },
    {
      "cell_type": "code",
      "source": [
        ""
      ],
      "metadata": {
        "id": "SXQPKQu7VHbJ"
      },
      "execution_count": null,
      "outputs": []
    },
    {
      "cell_type": "code",
      "source": [
        ""
      ],
      "metadata": {
        "id": "rBRpWYDvo78w"
      },
      "execution_count": null,
      "outputs": []
    },
    {
      "cell_type": "code",
      "source": [
        "import numpy as np\n",
        "Q6 = np.zeros((30,4))"
      ],
      "metadata": {
        "id": "Go2w6VagneNn"
      },
      "execution_count": 368,
      "outputs": []
    },
    {
      "cell_type": "code",
      "source": [
        "for i in range(len(R)):\n",
        "  for j in range(6,36):\n",
        "    for k in Sound:\n",
        "      if eval(R[i])[0][str(j)][k] == True:\n",
        "        Q6[j-6][Sound.index(k)] += 1"
      ],
      "metadata": {
        "id": "q7yYWyzJzHby"
      },
      "execution_count": null,
      "outputs": []
    },
    {
      "cell_type": "code",
      "source": [
        "for i in range(len(R)):\n",
        "  for j in range(6,36):\n",
        "    for k in Sound:\n",
        "      if eval(R[i])[0][str(j)][k] == True:\n",
        "        Q6[j-6][Sound.index(k)] += 1"
      ],
      "metadata": {
        "id": "aqflNIBsneip"
      },
      "execution_count": 38,
      "outputs": []
    },
    {
      "cell_type": "code",
      "source": [
        "print(Q6)"
      ],
      "metadata": {
        "colab": {
          "base_uri": "https://localhost:8080/"
        },
        "id": "5nNR59punx69",
        "outputId": "eb7675e2-3763-4f5f-b531-0bcf9cfc04ae"
      },
      "execution_count": 39,
      "outputs": [
        {
          "output_type": "stream",
          "name": "stdout",
          "text": [
            "[[ 50. 122.  11.  20.]\n",
            " [ 91. 101.   3.   8.]\n",
            " [ 92. 104.   4.   3.]\n",
            " [ 33.   7.   9. 154.]\n",
            " [ 39.   9.  11. 144.]\n",
            " [ 13.  15.  75. 100.]\n",
            " [ 15.  10. 102.  76.]\n",
            " [ 17.   9. 150.  27.]\n",
            " [ 30. 162.   5.   6.]\n",
            " [ 28. 164.   5.   6.]\n",
            " [ 28.  35.  65.  75.]\n",
            " [ 25.  76.  83.  19.]\n",
            " [ 53.   8.  18. 124.]\n",
            " [ 70.  29.  45.  59.]\n",
            " [ 34.  25.  52.  92.]\n",
            " [ 55.  15.  38.  95.]\n",
            " [  7.   8.  65. 123.]\n",
            " [  4.   7.   3. 189.]\n",
            " [ 66.  11.  22. 104.]\n",
            " [  7.   8.   1. 187.]\n",
            " [ 93. 102.   1.   7.]\n",
            " [ 94.  33.  28.  48.]\n",
            " [108.  90.   2.   3.]\n",
            " [ 14.   7.   5. 177.]\n",
            " [  3.   6.   4. 190.]\n",
            " [  5.   9.   2. 187.]\n",
            " [ 23.   9. 121.  50.]\n",
            " [  9.   7. 157.  30.]\n",
            " [ 38.  12.  45. 108.]\n",
            " [ 42.  22. 108.  31.]]\n"
          ]
        }
      ]
    }
  ]
}