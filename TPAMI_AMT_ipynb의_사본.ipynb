{
  "nbformat": 4,
  "nbformat_minor": 0,
  "metadata": {
    "colab": {
      "name": "TPAMI AMT.ipynb의 사본",
      "provenance": [],
      "collapsed_sections": [],
      "authorship_tag": "ABX9TyMb2jdMYdZ+xn3TsvGlpKWt",
      "include_colab_link": true
    },
    "kernelspec": {
      "name": "python3",
      "display_name": "Python 3"
    },
    "language_info": {
      "name": "python"
    },
    "accelerator": "GPU",
    "gpuClass": "standard"
  },
  "cells": [
    {
      "cell_type": "markdown",
      "metadata": {
        "id": "view-in-github",
        "colab_type": "text"
      },
      "source": [
        "<a href=\"https://colab.research.google.com/github/jjjuurang/CLIP/blob/main/TPAMI_AMT_ipynb%EC%9D%98_%EC%82%AC%EB%B3%B8.ipynb\" target=\"_parent\"><img src=\"https://colab.research.google.com/assets/colab-badge.svg\" alt=\"Open In Colab\"/></a>"
      ]
    },
    {
      "cell_type": "code",
      "source": [
        "true  = True\n",
        "false = False"
      ],
      "metadata": {
        "id": "SpH49vkvLnY3"
      },
      "execution_count": null,
      "outputs": []
    },
    {
      "cell_type": "code",
      "execution_count": null,
      "metadata": {
        "id": "8luHg7CVKsxM"
      },
      "outputs": [],
      "source": [
        "A = [{\"1\":{\"audio\":true,\"tedi\":false,\"text\":false},\"10\":{\"explosion\":false,\"fire\":false,\"raining\":false,\"water\":true},\"11\":{\"explosion\":false,\"fire\":false,\"raining\":false,\"water\":true},\"12\":{\"explosion\":false,\"fire\":false,\"raining\":true,\"water\":false},\"13\":{\"explosion\":false,\"fire\":false,\"raining\":true,\"water\":false},\"14\":{\"explosion\":false,\"fire\":true,\"raining\":false,\"water\":false},\"15\":{\"explosion\":false,\"fire\":true,\"raining\":false,\"water\":false},\"16\":{\"explosion\":false,\"fire\":false,\"raining\":false,\"water\":true},\"17\":{\"explosion\":false,\"fire\":true,\"raining\":false,\"water\":false},\"18\":{\"explosion\":false,\"fire\":false,\"raining\":false,\"water\":true},\"19\":{\"explosion\":false,\"fire\":false,\"raining\":false,\"water\":true},\"2\":{\"audio\":true,\"tedi\":false,\"text\":false},\"20\":{\"explosion\":false,\"fire\":false,\"raining\":false,\"water\":true},\"21\":{\"explosion\":false,\"fire\":false,\"raining\":false,\"water\":true},\"22\":{\"explosion\":false,\"fire\":false,\"raining\":false,\"water\":true},\"23\":{\"explosion\":false,\"fire\":false,\"raining\":false,\"water\":true},\"24\":{\"explosion\":true,\"fire\":false,\"raining\":false,\"water\":false},\"25\":{\"explosion\":false,\"fire\":false,\"raining\":false,\"water\":true},\"26\":{\"explosion\":false,\"fire\":true,\"raining\":false,\"water\":false},\"27\":{\"explosion\":true,\"fire\":false,\"raining\":false,\"water\":false},\"28\":{\"explosion\":true,\"fire\":false,\"raining\":false,\"water\":false},\"29\":{\"explosion\":false,\"fire\":false,\"raining\":false,\"water\":true},\"3\":{\"audio\":true,\"tedi\":false,\"text\":false},\"30\":{\"explosion\":false,\"fire\":false,\"raining\":false,\"water\":true},\"31\":{\"explosion\":false,\"fire\":false,\"raining\":false,\"water\":true},\"32\":{\"explosion\":false,\"fire\":false,\"raining\":true,\"water\":false},\"33\":{\"explosion\":false,\"fire\":false,\"raining\":true,\"water\":false},\"34\":{\"explosion\":false,\"fire\":false,\"raining\":false,\"water\":true},\"35\":{\"explosion\":false,\"fire\":false,\"raining\":true,\"water\":false},\"4\":{\"audio\":false,\"tedi\":false,\"text\":true},\"5\":{\"audio\":true,\"tedi\":false,\"text\":false},\"6\":{\"explosion\":true,\"fire\":false,\"raining\":false,\"water\":false},\"7\":{\"explosion\":false,\"fire\":true,\"raining\":false,\"water\":false},\"8\":{\"explosion\":false,\"fire\":true,\"raining\":false,\"water\":false},\"9\":{\"explosion\":false,\"fire\":false,\"raining\":false,\"water\":true}}]"
      ]
    },
    {
      "cell_type": "code",
      "source": [
        "len(A)"
      ],
      "metadata": {
        "colab": {
          "base_uri": "https://localhost:8080/"
        },
        "id": "hZ5dxagLLtNg",
        "outputId": "5dfdcaa8-7e28-49b1-fef5-4682c4d10a37"
      },
      "execution_count": null,
      "outputs": [
        {
          "output_type": "execute_result",
          "data": {
            "text/plain": [
              "1"
            ]
          },
          "metadata": {},
          "execution_count": 4
        }
      ]
    },
    {
      "cell_type": "code",
      "source": [
        "A[0]"
      ],
      "metadata": {
        "colab": {
          "base_uri": "https://localhost:8080/"
        },
        "id": "2vgkby3hL7VA",
        "outputId": "f3bc63b7-ce1e-4c00-fd26-b5aeb5e5304e"
      },
      "execution_count": null,
      "outputs": [
        {
          "output_type": "execute_result",
          "data": {
            "text/plain": [
              "{'1': {'audio': True, 'tedi': False, 'text': False},\n",
              " '10': {'explosion': False, 'fire': False, 'raining': False, 'water': True},\n",
              " '11': {'explosion': False, 'fire': False, 'raining': False, 'water': True},\n",
              " '12': {'explosion': False, 'fire': False, 'raining': True, 'water': False},\n",
              " '13': {'explosion': False, 'fire': False, 'raining': True, 'water': False},\n",
              " '14': {'explosion': False, 'fire': True, 'raining': False, 'water': False},\n",
              " '15': {'explosion': False, 'fire': True, 'raining': False, 'water': False},\n",
              " '16': {'explosion': False, 'fire': False, 'raining': False, 'water': True},\n",
              " '17': {'explosion': False, 'fire': True, 'raining': False, 'water': False},\n",
              " '18': {'explosion': False, 'fire': False, 'raining': False, 'water': True},\n",
              " '19': {'explosion': False, 'fire': False, 'raining': False, 'water': True},\n",
              " '2': {'audio': True, 'tedi': False, 'text': False},\n",
              " '20': {'explosion': False, 'fire': False, 'raining': False, 'water': True},\n",
              " '21': {'explosion': False, 'fire': False, 'raining': False, 'water': True},\n",
              " '22': {'explosion': False, 'fire': False, 'raining': False, 'water': True},\n",
              " '23': {'explosion': False, 'fire': False, 'raining': False, 'water': True},\n",
              " '24': {'explosion': True, 'fire': False, 'raining': False, 'water': False},\n",
              " '25': {'explosion': False, 'fire': False, 'raining': False, 'water': True},\n",
              " '26': {'explosion': False, 'fire': True, 'raining': False, 'water': False},\n",
              " '27': {'explosion': True, 'fire': False, 'raining': False, 'water': False},\n",
              " '28': {'explosion': True, 'fire': False, 'raining': False, 'water': False},\n",
              " '29': {'explosion': False, 'fire': False, 'raining': False, 'water': True},\n",
              " '3': {'audio': True, 'tedi': False, 'text': False},\n",
              " '30': {'explosion': False, 'fire': False, 'raining': False, 'water': True},\n",
              " '31': {'explosion': False, 'fire': False, 'raining': False, 'water': True},\n",
              " '32': {'explosion': False, 'fire': False, 'raining': True, 'water': False},\n",
              " '33': {'explosion': False, 'fire': False, 'raining': True, 'water': False},\n",
              " '34': {'explosion': False, 'fire': False, 'raining': False, 'water': True},\n",
              " '35': {'explosion': False, 'fire': False, 'raining': True, 'water': False},\n",
              " '4': {'audio': False, 'tedi': False, 'text': True},\n",
              " '5': {'audio': True, 'tedi': False, 'text': False},\n",
              " '6': {'explosion': True, 'fire': False, 'raining': False, 'water': False},\n",
              " '7': {'explosion': False, 'fire': True, 'raining': False, 'water': False},\n",
              " '8': {'explosion': False, 'fire': True, 'raining': False, 'water': False},\n",
              " '9': {'explosion': False, 'fire': False, 'raining': False, 'water': True}}"
            ]
          },
          "metadata": {},
          "execution_count": 5
        }
      ]
    },
    {
      "cell_type": "code",
      "source": [
        "B = sorted(A[0].items())"
      ],
      "metadata": {
        "id": "YG4iXO_BL-8y"
      },
      "execution_count": null,
      "outputs": []
    },
    {
      "cell_type": "code",
      "source": [
        "B"
      ],
      "metadata": {
        "colab": {
          "base_uri": "https://localhost:8080/"
        },
        "id": "pLKf-vRuMgxj",
        "outputId": "cf384e23-2b1d-4a84-9498-22cd76ad9f7f"
      },
      "execution_count": null,
      "outputs": [
        {
          "output_type": "execute_result",
          "data": {
            "text/plain": [
              "[('1', {'audio': True, 'tedi': False, 'text': False}),\n",
              " ('10', {'explosion': False, 'fire': False, 'raining': False, 'water': True}),\n",
              " ('11', {'explosion': False, 'fire': False, 'raining': False, 'water': True}),\n",
              " ('12', {'explosion': False, 'fire': False, 'raining': True, 'water': False}),\n",
              " ('13', {'explosion': False, 'fire': False, 'raining': True, 'water': False}),\n",
              " ('14', {'explosion': False, 'fire': True, 'raining': False, 'water': False}),\n",
              " ('15', {'explosion': False, 'fire': True, 'raining': False, 'water': False}),\n",
              " ('16', {'explosion': False, 'fire': False, 'raining': False, 'water': True}),\n",
              " ('17', {'explosion': False, 'fire': True, 'raining': False, 'water': False}),\n",
              " ('18', {'explosion': False, 'fire': False, 'raining': False, 'water': True}),\n",
              " ('19', {'explosion': False, 'fire': False, 'raining': False, 'water': True}),\n",
              " ('2', {'audio': True, 'tedi': False, 'text': False}),\n",
              " ('20', {'explosion': False, 'fire': False, 'raining': False, 'water': True}),\n",
              " ('21', {'explosion': False, 'fire': False, 'raining': False, 'water': True}),\n",
              " ('22', {'explosion': False, 'fire': False, 'raining': False, 'water': True}),\n",
              " ('23', {'explosion': False, 'fire': False, 'raining': False, 'water': True}),\n",
              " ('24', {'explosion': True, 'fire': False, 'raining': False, 'water': False}),\n",
              " ('25', {'explosion': False, 'fire': False, 'raining': False, 'water': True}),\n",
              " ('26', {'explosion': False, 'fire': True, 'raining': False, 'water': False}),\n",
              " ('27', {'explosion': True, 'fire': False, 'raining': False, 'water': False}),\n",
              " ('28', {'explosion': True, 'fire': False, 'raining': False, 'water': False}),\n",
              " ('29', {'explosion': False, 'fire': False, 'raining': False, 'water': True}),\n",
              " ('3', {'audio': True, 'tedi': False, 'text': False}),\n",
              " ('30', {'explosion': False, 'fire': False, 'raining': False, 'water': True}),\n",
              " ('31', {'explosion': False, 'fire': False, 'raining': False, 'water': True}),\n",
              " ('32', {'explosion': False, 'fire': False, 'raining': True, 'water': False}),\n",
              " ('33', {'explosion': False, 'fire': False, 'raining': True, 'water': False}),\n",
              " ('34', {'explosion': False, 'fire': False, 'raining': False, 'water': True}),\n",
              " ('35', {'explosion': False, 'fire': False, 'raining': True, 'water': False}),\n",
              " ('4', {'audio': False, 'tedi': False, 'text': True}),\n",
              " ('5', {'audio': True, 'tedi': False, 'text': False}),\n",
              " ('6', {'explosion': True, 'fire': False, 'raining': False, 'water': False}),\n",
              " ('7', {'explosion': False, 'fire': True, 'raining': False, 'water': False}),\n",
              " ('8', {'explosion': False, 'fire': True, 'raining': False, 'water': False}),\n",
              " ('9', {'explosion': False, 'fire': False, 'raining': False, 'water': True})]"
            ]
          },
          "metadata": {},
          "execution_count": 12
        }
      ]
    },
    {
      "cell_type": "code",
      "source": [
        "A2 = [{\"1\":{\"audio\":true,\"tedi\":false,\"text\":false},\"10\":{\"explosion\":false,\"fire\":false,\"raining\":false,\"water\":true},\"11\":{\"explosion\":false,\"fire\":false,\"raining\":true,\"water\":false},\"12\":{\"explosion\":false,\"fire\":false,\"raining\":true,\"water\":false},\"13\":{\"explosion\":false,\"fire\":false,\"raining\":true,\"water\":false},\"14\":{\"explosion\":false,\"fire\":true,\"raining\":false,\"water\":false},\"15\":{\"explosion\":true,\"fire\":false,\"raining\":false,\"water\":false},\"16\":{\"explosion\":false,\"fire\":false,\"raining\":false,\"water\":true},\"17\":{\"explosion\":false,\"fire\":false,\"raining\":true,\"water\":false},\"18\":{\"explosion\":false,\"fire\":false,\"raining\":false,\"water\":true},\"19\":{\"explosion\":false,\"fire\":false,\"raining\":false,\"water\":true},\"2\":{\"audio\":true,\"tedi\":false,\"text\":false},\"20\":{\"explosion\":false,\"fire\":false,\"raining\":false,\"water\":true},\"21\":{\"explosion\":false,\"fire\":false,\"raining\":false,\"water\":true},\"22\":{\"explosion\":false,\"fire\":false,\"raining\":true,\"water\":false},\"23\":{\"explosion\":false,\"fire\":false,\"raining\":false,\"water\":true},\"24\":{\"explosion\":false,\"fire\":false,\"raining\":false,\"water\":true},\"25\":{\"explosion\":false,\"fire\":false,\"raining\":false,\"water\":true},\"26\":{\"explosion\":true,\"fire\":false,\"raining\":false,\"water\":false},\"27\":{\"explosion\":true,\"fire\":false,\"raining\":false,\"water\":false},\"28\":{\"explosion\":true,\"fire\":false,\"raining\":false,\"water\":false},\"29\":{\"explosion\":false,\"fire\":false,\"raining\":false,\"water\":true},\"3\":{\"audio\":true,\"tedi\":false,\"text\":false},\"30\":{\"explosion\":false,\"fire\":false,\"raining\":false,\"water\":true},\"31\":{\"explosion\":false,\"fire\":false,\"raining\":false,\"water\":true},\"32\":{\"explosion\":false,\"fire\":false,\"raining\":true,\"water\":false},\"33\":{\"explosion\":false,\"fire\":false,\"raining\":true,\"water\":false},\"34\":{\"explosion\":false,\"fire\":false,\"raining\":true,\"water\":false},\"35\":{\"explosion\":false,\"fire\":false,\"raining\":false,\"water\":true},\"4\":{\"audio\":true,\"tedi\":false,\"text\":false},\"5\":{\"audio\":false,\"tedi\":true,\"text\":false},\"6\":{\"explosion\":true,\"fire\":false,\"raining\":false,\"water\":false},\"7\":{\"explosion\":true,\"fire\":false,\"raining\":false,\"water\":false},\"8\":{\"explosion\":true,\"fire\":false,\"raining\":false,\"water\":false},\"9\":{\"explosion\":false,\"fire\":false,\"raining\":false,\"water\":true}}]"
      ],
      "metadata": {
        "id": "Ev3FMAUQNgH6"
      },
      "execution_count": null,
      "outputs": []
    },
    {
      "cell_type": "code",
      "source": [
        "A2[0]"
      ],
      "metadata": {
        "colab": {
          "base_uri": "https://localhost:8080/"
        },
        "id": "jCdpU7GQNrv6",
        "outputId": "6fd576b8-65b9-4021-9ed3-e3829051568f"
      },
      "execution_count": null,
      "outputs": [
        {
          "output_type": "execute_result",
          "data": {
            "text/plain": [
              "{'1': {'audio': True, 'tedi': False, 'text': False},\n",
              " '10': {'explosion': False, 'fire': False, 'raining': False, 'water': True},\n",
              " '11': {'explosion': False, 'fire': False, 'raining': True, 'water': False},\n",
              " '12': {'explosion': False, 'fire': False, 'raining': True, 'water': False},\n",
              " '13': {'explosion': False, 'fire': False, 'raining': True, 'water': False},\n",
              " '14': {'explosion': False, 'fire': True, 'raining': False, 'water': False},\n",
              " '15': {'explosion': True, 'fire': False, 'raining': False, 'water': False},\n",
              " '16': {'explosion': False, 'fire': False, 'raining': False, 'water': True},\n",
              " '17': {'explosion': False, 'fire': False, 'raining': True, 'water': False},\n",
              " '18': {'explosion': False, 'fire': False, 'raining': False, 'water': True},\n",
              " '19': {'explosion': False, 'fire': False, 'raining': False, 'water': True},\n",
              " '2': {'audio': True, 'tedi': False, 'text': False},\n",
              " '20': {'explosion': False, 'fire': False, 'raining': False, 'water': True},\n",
              " '21': {'explosion': False, 'fire': False, 'raining': False, 'water': True},\n",
              " '22': {'explosion': False, 'fire': False, 'raining': True, 'water': False},\n",
              " '23': {'explosion': False, 'fire': False, 'raining': False, 'water': True},\n",
              " '24': {'explosion': False, 'fire': False, 'raining': False, 'water': True},\n",
              " '25': {'explosion': False, 'fire': False, 'raining': False, 'water': True},\n",
              " '26': {'explosion': True, 'fire': False, 'raining': False, 'water': False},\n",
              " '27': {'explosion': True, 'fire': False, 'raining': False, 'water': False},\n",
              " '28': {'explosion': True, 'fire': False, 'raining': False, 'water': False},\n",
              " '29': {'explosion': False, 'fire': False, 'raining': False, 'water': True},\n",
              " '3': {'audio': True, 'tedi': False, 'text': False},\n",
              " '30': {'explosion': False, 'fire': False, 'raining': False, 'water': True},\n",
              " '31': {'explosion': False, 'fire': False, 'raining': False, 'water': True},\n",
              " '32': {'explosion': False, 'fire': False, 'raining': True, 'water': False},\n",
              " '33': {'explosion': False, 'fire': False, 'raining': True, 'water': False},\n",
              " '34': {'explosion': False, 'fire': False, 'raining': True, 'water': False},\n",
              " '35': {'explosion': False, 'fire': False, 'raining': False, 'water': True},\n",
              " '4': {'audio': True, 'tedi': False, 'text': False},\n",
              " '5': {'audio': False, 'tedi': True, 'text': False},\n",
              " '6': {'explosion': True, 'fire': False, 'raining': False, 'water': False},\n",
              " '7': {'explosion': True, 'fire': False, 'raining': False, 'water': False},\n",
              " '8': {'explosion': True, 'fire': False, 'raining': False, 'water': False},\n",
              " '9': {'explosion': False, 'fire': False, 'raining': False, 'water': True}}"
            ]
          },
          "metadata": {},
          "execution_count": 14
        }
      ]
    },
    {
      "cell_type": "code",
      "source": [
        "keyList = A[0].keys()"
      ],
      "metadata": {
        "id": "g950POGEN2uh"
      },
      "execution_count": null,
      "outputs": []
    },
    {
      "cell_type": "code",
      "source": [
        "keyList"
      ],
      "metadata": {
        "colab": {
          "base_uri": "https://localhost:8080/"
        },
        "id": "pIH_ER7zOcQB",
        "outputId": "1d1b4d83-fe41-4fca-f839-16994613b2d2"
      },
      "execution_count": null,
      "outputs": [
        {
          "output_type": "execute_result",
          "data": {
            "text/plain": [
              "dict_keys(['1', '10', '11', '12', '13', '14', '15', '16', '17', '18', '19', '2', '20', '21', '22', '23', '24', '25', '26', '27', '28', '29', '3', '30', '31', '32', '33', '34', '35', '4', '5', '6', '7', '8', '9'])"
            ]
          },
          "metadata": {},
          "execution_count": 16
        }
      ]
    },
    {
      "cell_type": "code",
      "source": [
        "for item in keyList:\n",
        "  print(A[0][item])"
      ],
      "metadata": {
        "colab": {
          "base_uri": "https://localhost:8080/"
        },
        "id": "eOUR8FjHOgLH",
        "outputId": "18867d8b-7f3d-4b82-b02a-ed9edc4b4054"
      },
      "execution_count": null,
      "outputs": [
        {
          "output_type": "stream",
          "name": "stdout",
          "text": [
            "{'audio': True, 'tedi': False, 'text': False}\n",
            "{'explosion': False, 'fire': False, 'raining': False, 'water': True}\n",
            "{'explosion': False, 'fire': False, 'raining': False, 'water': True}\n",
            "{'explosion': False, 'fire': False, 'raining': True, 'water': False}\n",
            "{'explosion': False, 'fire': False, 'raining': True, 'water': False}\n",
            "{'explosion': False, 'fire': True, 'raining': False, 'water': False}\n",
            "{'explosion': False, 'fire': True, 'raining': False, 'water': False}\n",
            "{'explosion': False, 'fire': False, 'raining': False, 'water': True}\n",
            "{'explosion': False, 'fire': True, 'raining': False, 'water': False}\n",
            "{'explosion': False, 'fire': False, 'raining': False, 'water': True}\n",
            "{'explosion': False, 'fire': False, 'raining': False, 'water': True}\n",
            "{'audio': True, 'tedi': False, 'text': False}\n",
            "{'explosion': False, 'fire': False, 'raining': False, 'water': True}\n",
            "{'explosion': False, 'fire': False, 'raining': False, 'water': True}\n",
            "{'explosion': False, 'fire': False, 'raining': False, 'water': True}\n",
            "{'explosion': False, 'fire': False, 'raining': False, 'water': True}\n",
            "{'explosion': True, 'fire': False, 'raining': False, 'water': False}\n",
            "{'explosion': False, 'fire': False, 'raining': False, 'water': True}\n",
            "{'explosion': False, 'fire': True, 'raining': False, 'water': False}\n",
            "{'explosion': True, 'fire': False, 'raining': False, 'water': False}\n",
            "{'explosion': True, 'fire': False, 'raining': False, 'water': False}\n",
            "{'explosion': False, 'fire': False, 'raining': False, 'water': True}\n",
            "{'audio': True, 'tedi': False, 'text': False}\n",
            "{'explosion': False, 'fire': False, 'raining': False, 'water': True}\n",
            "{'explosion': False, 'fire': False, 'raining': False, 'water': True}\n",
            "{'explosion': False, 'fire': False, 'raining': True, 'water': False}\n",
            "{'explosion': False, 'fire': False, 'raining': True, 'water': False}\n",
            "{'explosion': False, 'fire': False, 'raining': False, 'water': True}\n",
            "{'explosion': False, 'fire': False, 'raining': True, 'water': False}\n",
            "{'audio': False, 'tedi': False, 'text': True}\n",
            "{'audio': True, 'tedi': False, 'text': False}\n",
            "{'explosion': True, 'fire': False, 'raining': False, 'water': False}\n",
            "{'explosion': False, 'fire': True, 'raining': False, 'water': False}\n",
            "{'explosion': False, 'fire': True, 'raining': False, 'water': False}\n",
            "{'explosion': False, 'fire': False, 'raining': False, 'water': True}\n"
          ]
        }
      ]
    },
    {
      "cell_type": "code",
      "source": [
        "A[0]['1']"
      ],
      "metadata": {
        "colab": {
          "base_uri": "https://localhost:8080/"
        },
        "id": "3G1y1WICOxq1",
        "outputId": "5a6f93a7-59ab-4f44-aa25-d71ee7bda683"
      },
      "execution_count": null,
      "outputs": [
        {
          "output_type": "execute_result",
          "data": {
            "text/plain": [
              "{'audio': True, 'tedi': False, 'text': False}"
            ]
          },
          "metadata": {},
          "execution_count": 22
        }
      ]
    },
    {
      "cell_type": "code",
      "source": [
        "inkeyList = A[0]['1'].keys()"
      ],
      "metadata": {
        "id": "iIYZW1mDPayq"
      },
      "execution_count": null,
      "outputs": []
    },
    {
      "cell_type": "code",
      "source": [
        "inkeyList"
      ],
      "metadata": {
        "colab": {
          "base_uri": "https://localhost:8080/"
        },
        "id": "5A_UIyXNRrYs",
        "outputId": "4eb22955-48cf-4886-8a06-a3868f824b52"
      },
      "execution_count": null,
      "outputs": [
        {
          "output_type": "execute_result",
          "data": {
            "text/plain": [
              "dict_keys(['audio', 'tedi', 'text'])"
            ]
          },
          "metadata": {},
          "execution_count": 25
        }
      ]
    },
    {
      "cell_type": "code",
      "source": [
        "for initem in inkeyList:\n",
        "  print(A[0]['1'][initem])"
      ],
      "metadata": {
        "colab": {
          "base_uri": "https://localhost:8080/"
        },
        "id": "atNFiwsKRvca",
        "outputId": "7e9dae44-d0df-4d4f-b163-f47d016280a3"
      },
      "execution_count": null,
      "outputs": [
        {
          "output_type": "stream",
          "name": "stdout",
          "text": [
            "True\n",
            "False\n",
            "False\n"
          ]
        }
      ]
    },
    {
      "cell_type": "code",
      "source": [
        "import pandas as pd\n",
        "csv = pd.read_csv(\"/content/TPAMIE2.csv\",names=[\"result\"])"
      ],
      "metadata": {
        "id": "IyKba82PSBFg"
      },
      "execution_count": null,
      "outputs": []
    },
    {
      "cell_type": "code",
      "source": [
        "print(len(csv['result'].values.tolist()))"
      ],
      "metadata": {
        "colab": {
          "base_uri": "https://localhost:8080/"
        },
        "id": "utMnr0LdTm2m",
        "outputId": "5f36c0a0-7147-4155-9d98-27b86510f36d"
      },
      "execution_count": null,
      "outputs": [
        {
          "output_type": "stream",
          "name": "stdout",
          "text": [
            "2\n"
          ]
        }
      ]
    },
    {
      "cell_type": "code",
      "source": [
        "R = csv['result'].values.tolist()"
      ],
      "metadata": {
        "id": "PTJtT9_JTuJs"
      },
      "execution_count": null,
      "outputs": []
    },
    {
      "cell_type": "code",
      "source": [
        "R"
      ],
      "metadata": {
        "colab": {
          "base_uri": "https://localhost:8080/"
        },
        "id": "YHYG59glTzVy",
        "outputId": "23990c00-4a7f-4fb7-88e5-35d9d95bbda9"
      },
      "execution_count": null,
      "outputs": [
        {
          "output_type": "execute_result",
          "data": {
            "text/plain": [
              "['[{\"1\":{\"audio\":true,\"tedi\":false,\"text\":false},\"10\":{\"explosion\":false,\"fire\":false,\"raining\":false,\"water\":true},\"11\":{\"explosion\":false,\"fire\":false,\"raining\":false,\"water\":true},\"12\":{\"explosion\":false,\"fire\":false,\"raining\":true,\"water\":false},\"13\":{\"explosion\":false,\"fire\":false,\"raining\":true,\"water\":false},\"14\":{\"explosion\":false,\"fire\":true,\"raining\":false,\"water\":false},\"15\":{\"explosion\":false,\"fire\":true,\"raining\":false,\"water\":false},\"16\":{\"explosion\":false,\"fire\":false,\"raining\":false,\"water\":true},\"17\":{\"explosion\":false,\"fire\":true,\"raining\":false,\"water\":false},\"18\":{\"explosion\":false,\"fire\":false,\"raining\":false,\"water\":true},\"19\":{\"explosion\":false,\"fire\":false,\"raining\":false,\"water\":true},\"2\":{\"audio\":true,\"tedi\":false,\"text\":false},\"20\":{\"explosion\":false,\"fire\":false,\"raining\":false,\"water\":true},\"21\":{\"explosion\":false,\"fire\":false,\"raining\":false,\"water\":true},\"22\":{\"explosion\":false,\"fire\":false,\"raining\":false,\"water\":true},\"23\":{\"explosion\":false,\"fire\":false,\"raining\":false,\"water\":true},\"24\":{\"explosion\":true,\"fire\":false,\"raining\":false,\"water\":false},\"25\":{\"explosion\":false,\"fire\":false,\"raining\":false,\"water\":true},\"26\":{\"explosion\":false,\"fire\":true,\"raining\":false,\"water\":false},\"27\":{\"explosion\":true,\"fire\":false,\"raining\":false,\"water\":false},\"28\":{\"explosion\":true,\"fire\":false,\"raining\":false,\"water\":false},\"29\":{\"explosion\":false,\"fire\":false,\"raining\":false,\"water\":true},\"3\":{\"audio\":true,\"tedi\":false,\"text\":false},\"30\":{\"explosion\":false,\"fire\":false,\"raining\":false,\"water\":true},\"31\":{\"explosion\":false,\"fire\":false,\"raining\":false,\"water\":true},\"32\":{\"explosion\":false,\"fire\":false,\"raining\":true,\"water\":false},\"33\":{\"explosion\":false,\"fire\":false,\"raining\":true,\"water\":false},\"34\":{\"explosion\":false,\"fire\":false,\"raining\":false,\"water\":true},\"35\":{\"explosion\":false,\"fire\":false,\"raining\":true,\"water\":false},\"4\":{\"audio\":false,\"tedi\":false,\"text\":true},\"5\":{\"audio\":true,\"tedi\":false,\"text\":false},\"6\":{\"explosion\":true,\"fire\":false,\"raining\":false,\"water\":false},\"7\":{\"explosion\":false,\"fire\":true,\"raining\":false,\"water\":false},\"8\":{\"explosion\":false,\"fire\":true,\"raining\":false,\"water\":false},\"9\":{\"explosion\":false,\"fire\":false,\"raining\":false,\"water\":true}}]',\n",
              " '[{\"1\":{\"audio\":true,\"tedi\":false,\"text\":false},\"10\":{\"explosion\":false,\"fire\":false,\"raining\":false,\"water\":true},\"11\":{\"explosion\":false,\"fire\":false,\"raining\":true,\"water\":false},\"12\":{\"explosion\":false,\"fire\":false,\"raining\":true,\"water\":false},\"13\":{\"explosion\":false,\"fire\":false,\"raining\":true,\"water\":false},\"14\":{\"explosion\":false,\"fire\":true,\"raining\":false,\"water\":false},\"15\":{\"explosion\":true,\"fire\":false,\"raining\":false,\"water\":false},\"16\":{\"explosion\":false,\"fire\":false,\"raining\":false,\"water\":true},\"17\":{\"explosion\":false,\"fire\":false,\"raining\":true,\"water\":false},\"18\":{\"explosion\":false,\"fire\":false,\"raining\":false,\"water\":true},\"19\":{\"explosion\":false,\"fire\":false,\"raining\":false,\"water\":true},\"2\":{\"audio\":true,\"tedi\":false,\"text\":false},\"20\":{\"explosion\":false,\"fire\":false,\"raining\":false,\"water\":true},\"21\":{\"explosion\":false,\"fire\":false,\"raining\":false,\"water\":true},\"22\":{\"explosion\":false,\"fire\":false,\"raining\":true,\"water\":false},\"23\":{\"explosion\":false,\"fire\":false,\"raining\":false,\"water\":true},\"24\":{\"explosion\":false,\"fire\":false,\"raining\":false,\"water\":true},\"25\":{\"explosion\":false,\"fire\":false,\"raining\":false,\"water\":true},\"26\":{\"explosion\":true,\"fire\":false,\"raining\":false,\"water\":false},\"27\":{\"explosion\":true,\"fire\":false,\"raining\":false,\"water\":false},\"28\":{\"explosion\":true,\"fire\":false,\"raining\":false,\"water\":false},\"29\":{\"explosion\":false,\"fire\":false,\"raining\":false,\"water\":true},\"3\":{\"audio\":true,\"tedi\":false,\"text\":false},\"30\":{\"explosion\":false,\"fire\":false,\"raining\":false,\"water\":true},\"31\":{\"explosion\":false,\"fire\":false,\"raining\":false,\"water\":true},\"32\":{\"explosion\":false,\"fire\":false,\"raining\":true,\"water\":false},\"33\":{\"explosion\":false,\"fire\":false,\"raining\":true,\"water\":false},\"34\":{\"explosion\":false,\"fire\":false,\"raining\":true,\"water\":false},\"35\":{\"explosion\":false,\"fire\":false,\"raining\":false,\"water\":true},\"4\":{\"audio\":true,\"tedi\":false,\"text\":false},\"5\":{\"audio\":false,\"tedi\":true,\"text\":false},\"6\":{\"explosion\":true,\"fire\":false,\"raining\":false,\"water\":false},\"7\":{\"explosion\":true,\"fire\":false,\"raining\":false,\"water\":false},\"8\":{\"explosion\":true,\"fire\":false,\"raining\":false,\"water\":false},\"9\":{\"explosion\":false,\"fire\":false,\"raining\":false,\"water\":true}}]']"
            ]
          },
          "metadata": {},
          "execution_count": 41
        }
      ]
    },
    {
      "cell_type": "code",
      "source": [
        "print(len(R))"
      ],
      "metadata": {
        "colab": {
          "base_uri": "https://localhost:8080/"
        },
        "id": "YUhvBzI5T5h4",
        "outputId": "a80b6989-bb47-4070-bd21-2bbdc30de848"
      },
      "execution_count": null,
      "outputs": [
        {
          "output_type": "stream",
          "name": "stdout",
          "text": [
            "2\n"
          ]
        }
      ]
    },
    {
      "cell_type": "code",
      "source": [
        "print(R[0])"
      ],
      "metadata": {
        "colab": {
          "base_uri": "https://localhost:8080/"
        },
        "id": "CacMPFDOT_4r",
        "outputId": "c7c042cd-6d11-41ce-e625-e18d044fff70"
      },
      "execution_count": null,
      "outputs": [
        {
          "output_type": "stream",
          "name": "stdout",
          "text": [
            "[{\"1\":{\"audio\":true,\"tedi\":false,\"text\":false},\"10\":{\"explosion\":false,\"fire\":false,\"raining\":false,\"water\":true},\"11\":{\"explosion\":false,\"fire\":false,\"raining\":false,\"water\":true},\"12\":{\"explosion\":false,\"fire\":false,\"raining\":true,\"water\":false},\"13\":{\"explosion\":false,\"fire\":false,\"raining\":true,\"water\":false},\"14\":{\"explosion\":false,\"fire\":true,\"raining\":false,\"water\":false},\"15\":{\"explosion\":false,\"fire\":true,\"raining\":false,\"water\":false},\"16\":{\"explosion\":false,\"fire\":false,\"raining\":false,\"water\":true},\"17\":{\"explosion\":false,\"fire\":true,\"raining\":false,\"water\":false},\"18\":{\"explosion\":false,\"fire\":false,\"raining\":false,\"water\":true},\"19\":{\"explosion\":false,\"fire\":false,\"raining\":false,\"water\":true},\"2\":{\"audio\":true,\"tedi\":false,\"text\":false},\"20\":{\"explosion\":false,\"fire\":false,\"raining\":false,\"water\":true},\"21\":{\"explosion\":false,\"fire\":false,\"raining\":false,\"water\":true},\"22\":{\"explosion\":false,\"fire\":false,\"raining\":false,\"water\":true},\"23\":{\"explosion\":false,\"fire\":false,\"raining\":false,\"water\":true},\"24\":{\"explosion\":true,\"fire\":false,\"raining\":false,\"water\":false},\"25\":{\"explosion\":false,\"fire\":false,\"raining\":false,\"water\":true},\"26\":{\"explosion\":false,\"fire\":true,\"raining\":false,\"water\":false},\"27\":{\"explosion\":true,\"fire\":false,\"raining\":false,\"water\":false},\"28\":{\"explosion\":true,\"fire\":false,\"raining\":false,\"water\":false},\"29\":{\"explosion\":false,\"fire\":false,\"raining\":false,\"water\":true},\"3\":{\"audio\":true,\"tedi\":false,\"text\":false},\"30\":{\"explosion\":false,\"fire\":false,\"raining\":false,\"water\":true},\"31\":{\"explosion\":false,\"fire\":false,\"raining\":false,\"water\":true},\"32\":{\"explosion\":false,\"fire\":false,\"raining\":true,\"water\":false},\"33\":{\"explosion\":false,\"fire\":false,\"raining\":true,\"water\":false},\"34\":{\"explosion\":false,\"fire\":false,\"raining\":false,\"water\":true},\"35\":{\"explosion\":false,\"fire\":false,\"raining\":true,\"water\":false},\"4\":{\"audio\":false,\"tedi\":false,\"text\":true},\"5\":{\"audio\":true,\"tedi\":false,\"text\":false},\"6\":{\"explosion\":true,\"fire\":false,\"raining\":false,\"water\":false},\"7\":{\"explosion\":false,\"fire\":true,\"raining\":false,\"water\":false},\"8\":{\"explosion\":false,\"fire\":true,\"raining\":false,\"water\":false},\"9\":{\"explosion\":false,\"fire\":false,\"raining\":false,\"water\":true}}]\n"
          ]
        }
      ]
    },
    {
      "cell_type": "code",
      "source": [
        "eval(R[0])"
      ],
      "metadata": {
        "colab": {
          "base_uri": "https://localhost:8080/"
        },
        "id": "i6eWZmp6b1vc",
        "outputId": "ffebc6d9-9f3b-4b84-c2da-b7141893f0db"
      },
      "execution_count": null,
      "outputs": [
        {
          "output_type": "execute_result",
          "data": {
            "text/plain": [
              "[{'1': {'audio': True, 'tedi': False, 'text': False},\n",
              "  '10': {'explosion': False, 'fire': False, 'raining': False, 'water': True},\n",
              "  '11': {'explosion': False, 'fire': False, 'raining': False, 'water': True},\n",
              "  '12': {'explosion': False, 'fire': False, 'raining': True, 'water': False},\n",
              "  '13': {'explosion': False, 'fire': False, 'raining': True, 'water': False},\n",
              "  '14': {'explosion': False, 'fire': True, 'raining': False, 'water': False},\n",
              "  '15': {'explosion': False, 'fire': True, 'raining': False, 'water': False},\n",
              "  '16': {'explosion': False, 'fire': False, 'raining': False, 'water': True},\n",
              "  '17': {'explosion': False, 'fire': True, 'raining': False, 'water': False},\n",
              "  '18': {'explosion': False, 'fire': False, 'raining': False, 'water': True},\n",
              "  '19': {'explosion': False, 'fire': False, 'raining': False, 'water': True},\n",
              "  '2': {'audio': True, 'tedi': False, 'text': False},\n",
              "  '20': {'explosion': False, 'fire': False, 'raining': False, 'water': True},\n",
              "  '21': {'explosion': False, 'fire': False, 'raining': False, 'water': True},\n",
              "  '22': {'explosion': False, 'fire': False, 'raining': False, 'water': True},\n",
              "  '23': {'explosion': False, 'fire': False, 'raining': False, 'water': True},\n",
              "  '24': {'explosion': True, 'fire': False, 'raining': False, 'water': False},\n",
              "  '25': {'explosion': False, 'fire': False, 'raining': False, 'water': True},\n",
              "  '26': {'explosion': False, 'fire': True, 'raining': False, 'water': False},\n",
              "  '27': {'explosion': True, 'fire': False, 'raining': False, 'water': False},\n",
              "  '28': {'explosion': True, 'fire': False, 'raining': False, 'water': False},\n",
              "  '29': {'explosion': False, 'fire': False, 'raining': False, 'water': True},\n",
              "  '3': {'audio': True, 'tedi': False, 'text': False},\n",
              "  '30': {'explosion': False, 'fire': False, 'raining': False, 'water': True},\n",
              "  '31': {'explosion': False, 'fire': False, 'raining': False, 'water': True},\n",
              "  '32': {'explosion': False, 'fire': False, 'raining': True, 'water': False},\n",
              "  '33': {'explosion': False, 'fire': False, 'raining': True, 'water': False},\n",
              "  '34': {'explosion': False, 'fire': False, 'raining': False, 'water': True},\n",
              "  '35': {'explosion': False, 'fire': False, 'raining': True, 'water': False},\n",
              "  '4': {'audio': False, 'tedi': False, 'text': True},\n",
              "  '5': {'audio': True, 'tedi': False, 'text': False},\n",
              "  '6': {'explosion': True, 'fire': False, 'raining': False, 'water': False},\n",
              "  '7': {'explosion': False, 'fire': True, 'raining': False, 'water': False},\n",
              "  '8': {'explosion': False, 'fire': True, 'raining': False, 'water': False},\n",
              "  '9': {'explosion': False, 'fire': False, 'raining': False, 'water': True}}]"
            ]
          },
          "metadata": {},
          "execution_count": 55
        }
      ]
    },
    {
      "cell_type": "code",
      "source": [
        "print(type(eval(R[0])))"
      ],
      "metadata": {
        "colab": {
          "base_uri": "https://localhost:8080/"
        },
        "id": "E9dYR0JbcC1L",
        "outputId": "5fd0b863-f7c3-4e59-8e63-c8eea55e5d34"
      },
      "execution_count": null,
      "outputs": [
        {
          "output_type": "stream",
          "name": "stdout",
          "text": [
            "<class 'list'>\n"
          ]
        }
      ]
    },
    {
      "cell_type": "code",
      "source": [
        "len(eval(R[0]))"
      ],
      "metadata": {
        "colab": {
          "base_uri": "https://localhost:8080/"
        },
        "id": "Jm8stNYHcJIs",
        "outputId": "01732b98-c6fa-4418-9056-538be6ac140f"
      },
      "execution_count": null,
      "outputs": [
        {
          "output_type": "execute_result",
          "data": {
            "text/plain": [
              "1"
            ]
          },
          "metadata": {},
          "execution_count": 59
        }
      ]
    },
    {
      "cell_type": "code",
      "source": [
        "print(eval(R[0])[0])"
      ],
      "metadata": {
        "colab": {
          "base_uri": "https://localhost:8080/"
        },
        "id": "u88sA-NWcpi5",
        "outputId": "b9b82630-26a4-4fa1-ede2-a55932f22fc7"
      },
      "execution_count": null,
      "outputs": [
        {
          "output_type": "stream",
          "name": "stdout",
          "text": [
            "{'1': {'audio': True, 'tedi': False, 'text': False}, '10': {'explosion': False, 'fire': False, 'raining': False, 'water': True}, '11': {'explosion': False, 'fire': False, 'raining': False, 'water': True}, '12': {'explosion': False, 'fire': False, 'raining': True, 'water': False}, '13': {'explosion': False, 'fire': False, 'raining': True, 'water': False}, '14': {'explosion': False, 'fire': True, 'raining': False, 'water': False}, '15': {'explosion': False, 'fire': True, 'raining': False, 'water': False}, '16': {'explosion': False, 'fire': False, 'raining': False, 'water': True}, '17': {'explosion': False, 'fire': True, 'raining': False, 'water': False}, '18': {'explosion': False, 'fire': False, 'raining': False, 'water': True}, '19': {'explosion': False, 'fire': False, 'raining': False, 'water': True}, '2': {'audio': True, 'tedi': False, 'text': False}, '20': {'explosion': False, 'fire': False, 'raining': False, 'water': True}, '21': {'explosion': False, 'fire': False, 'raining': False, 'water': True}, '22': {'explosion': False, 'fire': False, 'raining': False, 'water': True}, '23': {'explosion': False, 'fire': False, 'raining': False, 'water': True}, '24': {'explosion': True, 'fire': False, 'raining': False, 'water': False}, '25': {'explosion': False, 'fire': False, 'raining': False, 'water': True}, '26': {'explosion': False, 'fire': True, 'raining': False, 'water': False}, '27': {'explosion': True, 'fire': False, 'raining': False, 'water': False}, '28': {'explosion': True, 'fire': False, 'raining': False, 'water': False}, '29': {'explosion': False, 'fire': False, 'raining': False, 'water': True}, '3': {'audio': True, 'tedi': False, 'text': False}, '30': {'explosion': False, 'fire': False, 'raining': False, 'water': True}, '31': {'explosion': False, 'fire': False, 'raining': False, 'water': True}, '32': {'explosion': False, 'fire': False, 'raining': True, 'water': False}, '33': {'explosion': False, 'fire': False, 'raining': True, 'water': False}, '34': {'explosion': False, 'fire': False, 'raining': False, 'water': True}, '35': {'explosion': False, 'fire': False, 'raining': True, 'water': False}, '4': {'audio': False, 'tedi': False, 'text': True}, '5': {'audio': True, 'tedi': False, 'text': False}, '6': {'explosion': True, 'fire': False, 'raining': False, 'water': False}, '7': {'explosion': False, 'fire': True, 'raining': False, 'water': False}, '8': {'explosion': False, 'fire': True, 'raining': False, 'water': False}, '9': {'explosion': False, 'fire': False, 'raining': False, 'water': True}}\n"
          ]
        }
      ]
    },
    {
      "cell_type": "code",
      "source": [
        "eval(R[0])[0][\"1\"]"
      ],
      "metadata": {
        "colab": {
          "base_uri": "https://localhost:8080/"
        },
        "id": "CiaPOTHCgheD",
        "outputId": "b1ec9d11-14b6-42d8-a760-a588028a248c"
      },
      "execution_count": null,
      "outputs": [
        {
          "output_type": "execute_result",
          "data": {
            "text/plain": [
              "{'audio': True, 'tedi': False, 'text': False}"
            ]
          },
          "metadata": {},
          "execution_count": 7
        }
      ]
    },
    {
      "cell_type": "code",
      "source": [
        "eval(R[0])[0][\"1\"][\"audio\"]"
      ],
      "metadata": {
        "colab": {
          "base_uri": "https://localhost:8080/"
        },
        "id": "Bf2nnrOWglxN",
        "outputId": "36569674-1453-4dc9-ce04-870bab85bdd6"
      },
      "execution_count": null,
      "outputs": [
        {
          "output_type": "execute_result",
          "data": {
            "text/plain": [
              "True"
            ]
          },
          "metadata": {},
          "execution_count": 8
        }
      ]
    },
    {
      "cell_type": "code",
      "source": [
        "Best = [\"audio\", \"tedi\", \"text\"]\n",
        "Sound = [\"explosion\", \"fire\", \"raining\", \"water\"]"
      ],
      "metadata": {
        "id": "X-YIcFq_gpyw"
      },
      "execution_count": null,
      "outputs": []
    },
    {
      "cell_type": "code",
      "source": [
        "for "
      ],
      "metadata": {
        "id": "4A5xtUFsjVV1"
      },
      "execution_count": null,
      "outputs": []
    },
    {
      "cell_type": "code",
      "source": [
        "import json\n",
        "J = eval(R[0])[0]\n",
        "JO = json.loads(J)\n",
        "print(JO['1'])"
      ],
      "metadata": {
        "colab": {
          "base_uri": "https://localhost:8080/",
          "height": 380
        },
        "id": "ssYVrP0ggGdD",
        "outputId": "f184fa30-0fae-4819-8dc2-203d1f09ddd5"
      },
      "execution_count": null,
      "outputs": [
        {
          "output_type": "error",
          "ename": "TypeError",
          "evalue": "ignored",
          "traceback": [
            "\u001b[0;31m---------------------------------------------------------------------------\u001b[0m",
            "\u001b[0;31mTypeError\u001b[0m                                 Traceback (most recent call last)",
            "\u001b[0;32m<ipython-input-68-61ff47d9cd09>\u001b[0m in \u001b[0;36m<module>\u001b[0;34m()\u001b[0m\n\u001b[1;32m      1\u001b[0m \u001b[0;32mimport\u001b[0m \u001b[0mjson\u001b[0m\u001b[0;34m\u001b[0m\u001b[0;34m\u001b[0m\u001b[0m\n\u001b[1;32m      2\u001b[0m \u001b[0mJ\u001b[0m \u001b[0;34m=\u001b[0m \u001b[0meval\u001b[0m\u001b[0;34m(\u001b[0m\u001b[0mR\u001b[0m\u001b[0;34m[\u001b[0m\u001b[0;36m0\u001b[0m\u001b[0;34m]\u001b[0m\u001b[0;34m)\u001b[0m\u001b[0;34m[\u001b[0m\u001b[0;36m0\u001b[0m\u001b[0;34m]\u001b[0m\u001b[0;34m\u001b[0m\u001b[0;34m\u001b[0m\u001b[0m\n\u001b[0;32m----> 3\u001b[0;31m \u001b[0mJO\u001b[0m \u001b[0;34m=\u001b[0m \u001b[0mjson\u001b[0m\u001b[0;34m.\u001b[0m\u001b[0mloads\u001b[0m\u001b[0;34m(\u001b[0m\u001b[0mJ\u001b[0m\u001b[0;34m)\u001b[0m\u001b[0;34m\u001b[0m\u001b[0;34m\u001b[0m\u001b[0m\n\u001b[0m\u001b[1;32m      4\u001b[0m \u001b[0mprint\u001b[0m\u001b[0;34m(\u001b[0m\u001b[0mJO\u001b[0m\u001b[0;34m[\u001b[0m\u001b[0;34m'1'\u001b[0m\u001b[0;34m]\u001b[0m\u001b[0;34m)\u001b[0m\u001b[0;34m\u001b[0m\u001b[0;34m\u001b[0m\u001b[0m\n",
            "\u001b[0;32m/usr/lib/python3.7/json/__init__.py\u001b[0m in \u001b[0;36mloads\u001b[0;34m(s, encoding, cls, object_hook, parse_float, parse_int, parse_constant, object_pairs_hook, **kw)\u001b[0m\n\u001b[1;32m    339\u001b[0m     \u001b[0;32melse\u001b[0m\u001b[0;34m:\u001b[0m\u001b[0;34m\u001b[0m\u001b[0;34m\u001b[0m\u001b[0m\n\u001b[1;32m    340\u001b[0m         \u001b[0;32mif\u001b[0m \u001b[0;32mnot\u001b[0m \u001b[0misinstance\u001b[0m\u001b[0;34m(\u001b[0m\u001b[0ms\u001b[0m\u001b[0;34m,\u001b[0m \u001b[0;34m(\u001b[0m\u001b[0mbytes\u001b[0m\u001b[0;34m,\u001b[0m \u001b[0mbytearray\u001b[0m\u001b[0;34m)\u001b[0m\u001b[0;34m)\u001b[0m\u001b[0;34m:\u001b[0m\u001b[0;34m\u001b[0m\u001b[0;34m\u001b[0m\u001b[0m\n\u001b[0;32m--> 341\u001b[0;31m             raise TypeError(f'the JSON object must be str, bytes or bytearray, '\n\u001b[0m\u001b[1;32m    342\u001b[0m                             f'not {s.__class__.__name__}')\n\u001b[1;32m    343\u001b[0m         \u001b[0ms\u001b[0m \u001b[0;34m=\u001b[0m \u001b[0ms\u001b[0m\u001b[0;34m.\u001b[0m\u001b[0mdecode\u001b[0m\u001b[0;34m(\u001b[0m\u001b[0mdetect_encoding\u001b[0m\u001b[0;34m(\u001b[0m\u001b[0ms\u001b[0m\u001b[0;34m)\u001b[0m\u001b[0;34m,\u001b[0m \u001b[0;34m'surrogatepass'\u001b[0m\u001b[0;34m)\u001b[0m\u001b[0;34m\u001b[0m\u001b[0;34m\u001b[0m\u001b[0m\n",
            "\u001b[0;31mTypeError\u001b[0m: the JSON object must be str, bytes or bytearray, not dict"
          ]
        }
      ]
    },
    {
      "cell_type": "code",
      "source": [
        "eval(eval(R[0])[0])"
      ],
      "metadata": {
        "colab": {
          "base_uri": "https://localhost:8080/",
          "height": 176
        },
        "id": "TY4rBDI_cV8D",
        "outputId": "aa6caaf4-fa5e-4812-96c6-d40611c24236"
      },
      "execution_count": null,
      "outputs": [
        {
          "output_type": "error",
          "ename": "TypeError",
          "evalue": "ignored",
          "traceback": [
            "\u001b[0;31m---------------------------------------------------------------------------\u001b[0m",
            "\u001b[0;31mTypeError\u001b[0m                                 Traceback (most recent call last)",
            "\u001b[0;32m<ipython-input-64-bd18a8a1f46c>\u001b[0m in \u001b[0;36m<module>\u001b[0;34m()\u001b[0m\n\u001b[0;32m----> 1\u001b[0;31m \u001b[0meval\u001b[0m\u001b[0;34m(\u001b[0m\u001b[0meval\u001b[0m\u001b[0;34m(\u001b[0m\u001b[0mR\u001b[0m\u001b[0;34m[\u001b[0m\u001b[0;36m0\u001b[0m\u001b[0;34m]\u001b[0m\u001b[0;34m)\u001b[0m\u001b[0;34m[\u001b[0m\u001b[0;36m0\u001b[0m\u001b[0;34m]\u001b[0m\u001b[0;34m)\u001b[0m\u001b[0;34m\u001b[0m\u001b[0;34m\u001b[0m\u001b[0m\n\u001b[0m",
            "\u001b[0;31mTypeError\u001b[0m: eval() arg 1 must be a string, bytes or code object"
          ]
        }
      ]
    },
    {
      "cell_type": "code",
      "source": [
        "Rlist = R[0].split(\",\")"
      ],
      "metadata": {
        "id": "FKhftFlIZa6z"
      },
      "execution_count": null,
      "outputs": []
    },
    {
      "cell_type": "code",
      "source": [
        "print(len(R[0]))"
      ],
      "metadata": {
        "colab": {
          "base_uri": "https://localhost:8080/"
        },
        "id": "MvsI33wnXgij",
        "outputId": "fb114341-0819-426d-b4a2-6bcb7285dc6c"
      },
      "execution_count": null,
      "outputs": [
        {
          "output_type": "stream",
          "name": "stdout",
          "text": [
            "2234\n"
          ]
        }
      ]
    },
    {
      "cell_type": "code",
      "source": [
        "print(R[0][2])"
      ],
      "metadata": {
        "colab": {
          "base_uri": "https://localhost:8080/"
        },
        "id": "yW9Adnx5Xnpt",
        "outputId": "e4d10f10-de27-4d09-d339-4de931d1d8ee"
      },
      "execution_count": null,
      "outputs": [
        {
          "output_type": "stream",
          "name": "stdout",
          "text": [
            "\"\n"
          ]
        }
      ]
    },
    {
      "cell_type": "code",
      "source": [
        "import numpy as np\n",
        "Q1to5 = np.zeros((5,3))"
      ],
      "metadata": {
        "id": "z_ly9FydUwdY"
      },
      "execution_count": null,
      "outputs": []
    },
    {
      "cell_type": "code",
      "source": [
        "for i in range(len(R)):\n",
        "  R[i] "
      ],
      "metadata": {
        "id": "XbYS_b1GUE15"
      },
      "execution_count": null,
      "outputs": []
    },
    {
      "cell_type": "code",
      "source": [
        "import json\n",
        "with open(\"/content/csvjson.json\",\"r\") as f:\n",
        "  jd = json.load(f)\n",
        "print(json.dumps(jd))"
      ],
      "metadata": {
        "colab": {
          "base_uri": "https://localhost:8080/"
        },
        "id": "uJsmFzECZHho",
        "outputId": "b257e35c-dfe4-406d-d9ca-e45e5c76b901"
      },
      "execution_count": null,
      "outputs": [
        {
          "output_type": "stream",
          "name": "stdout",
          "text": [
            "[{\"[{\\\"1\\\":{\\\"audio\\\":true,\\\"tedi\\\":false,\\\"text\\\":false},\\\"10\\\":{\\\"explosion\\\":false,\\\"fire\\\":false,\\\"raining\\\":false,\\\"water\\\":true},\\\"11\\\":{\\\"explosion\\\":false,\\\"fire\\\":false,\\\"raining\\\":false,\\\"water\\\":true},\\\"12\\\":{\\\"explosion\\\":false,\\\"fire\\\":false,\\\"raining\\\":true,\\\"water\\\":false},\\\"13\\\":{\\\"explosion\\\":false,\\\"fire\\\":false,\\\"raining\\\":true,\\\"water\\\":false},\\\"14\\\":{\\\"explosion\\\":false,\\\"fire\\\":true,\\\"raining\\\":false,\\\"water\\\":false},\\\"15\\\":{\\\"explosion\\\":false,\\\"fire\\\":true,\\\"raining\\\":false,\\\"water\\\":false},\\\"16\\\":{\\\"explosion\\\":false,\\\"fire\\\":false,\\\"raining\\\":false,\\\"water\\\":true},\\\"17\\\":{\\\"explosion\\\":false,\\\"fire\\\":true,\\\"raining\\\":false,\\\"water\\\":false},\\\"18\\\":{\\\"explosion\\\":false,\\\"fire\\\":false,\\\"raining\\\":false,\\\"water\\\":true},\\\"19\\\":{\\\"explosion\\\":false,\\\"fire\\\":false,\\\"raining\\\":false,\\\"water\\\":true},\\\"2\\\":{\\\"audio\\\":true,\\\"tedi\\\":false,\\\"text\\\":false},\\\"20\\\":{\\\"explosion\\\":false,\\\"fire\\\":false,\\\"raining\\\":false,\\\"water\\\":true},\\\"21\\\":{\\\"explosion\\\":false,\\\"fire\\\":false,\\\"raining\\\":false,\\\"water\\\":true},\\\"22\\\":{\\\"explosion\\\":false,\\\"fire\\\":false,\\\"raining\\\":false,\\\"water\\\":true},\\\"23\\\":{\\\"explosion\\\":false,\\\"fire\\\":false,\\\"raining\\\":false,\\\"water\\\":true},\\\"24\\\":{\\\"explosion\\\":true,\\\"fire\\\":false,\\\"raining\\\":false,\\\"water\\\":false},\\\"25\\\":{\\\"explosion\\\":false,\\\"fire\\\":false,\\\"raining\\\":false,\\\"water\\\":true},\\\"26\\\":{\\\"explosion\\\":false,\\\"fire\\\":true,\\\"raining\\\":false,\\\"water\\\":false},\\\"27\\\":{\\\"explosion\\\":true,\\\"fire\\\":false,\\\"raining\\\":false,\\\"water\\\":false},\\\"28\\\":{\\\"explosion\\\":true,\\\"fire\\\":false,\\\"raining\\\":false,\\\"water\\\":false},\\\"29\\\":{\\\"explosion\\\":false,\\\"fire\\\":false,\\\"raining\\\":false,\\\"water\\\":true},\\\"3\\\":{\\\"audio\\\":true,\\\"tedi\\\":false,\\\"text\\\":false},\\\"30\\\":{\\\"explosion\\\":false,\\\"fire\\\":false,\\\"raining\\\":false,\\\"water\\\":true},\\\"31\\\":{\\\"explosion\\\":false,\\\"fire\\\":false,\\\"raining\\\":false,\\\"water\\\":true},\\\"32\\\":{\\\"explosion\\\":false,\\\"fire\\\":false,\\\"raining\\\":true,\\\"water\\\":false},\\\"33\\\":{\\\"explosion\\\":false,\\\"fire\\\":false,\\\"raining\\\":true,\\\"water\\\":false},\\\"34\\\":{\\\"explosion\\\":false,\\\"fire\\\":false,\\\"raining\\\":false,\\\"water\\\":true},\\\"35\\\":{\\\"explosion\\\":false,\\\"fire\\\":false,\\\"raining\\\":true,\\\"water\\\":false},\\\"4\\\":{\\\"audio\\\":false,\\\"tedi\\\":false,\\\"text\\\":true},\\\"5\\\":{\\\"audio\\\":true,\\\"tedi\\\":false,\\\"text\\\":false},\\\"6\\\":{\\\"explosion\\\":true,\\\"fire\\\":false,\\\"raining\\\":false,\\\"water\\\":false},\\\"7\\\":{\\\"explosion\\\":false,\\\"fire\\\":true,\\\"raining\\\":false,\\\"water\\\":false},\\\"8\\\":{\\\"explosion\\\":false,\\\"fire\\\":true,\\\"raining\\\":false,\\\"water\\\":false},\\\"9\\\":{\\\"explosion\\\":false,\\\"fire\\\":false,\\\"raining\\\":false,\\\"water\\\":true}}]\": [{\"1\": {\"audio\": true, \"tedi\": false, \"text\": false}, \"2\": {\"audio\": true, \"tedi\": false, \"text\": false}, \"3\": {\"audio\": true, \"tedi\": false, \"text\": false}, \"4\": {\"audio\": true, \"tedi\": false, \"text\": false}, \"5\": {\"audio\": false, \"tedi\": true, \"text\": false}, \"6\": {\"explosion\": true, \"fire\": false, \"raining\": false, \"water\": false}, \"7\": {\"explosion\": true, \"fire\": false, \"raining\": false, \"water\": false}, \"8\": {\"explosion\": true, \"fire\": false, \"raining\": false, \"water\": false}, \"9\": {\"explosion\": false, \"fire\": false, \"raining\": false, \"water\": true}, \"10\": {\"explosion\": false, \"fire\": false, \"raining\": false, \"water\": true}, \"11\": {\"explosion\": false, \"fire\": false, \"raining\": true, \"water\": false}, \"12\": {\"explosion\": false, \"fire\": false, \"raining\": true, \"water\": false}, \"13\": {\"explosion\": false, \"fire\": false, \"raining\": true, \"water\": false}, \"14\": {\"explosion\": false, \"fire\": true, \"raining\": false, \"water\": false}, \"15\": {\"explosion\": true, \"fire\": false, \"raining\": false, \"water\": false}, \"16\": {\"explosion\": false, \"fire\": false, \"raining\": false, \"water\": true}, \"17\": {\"explosion\": false, \"fire\": false, \"raining\": true, \"water\": false}, \"18\": {\"explosion\": false, \"fire\": false, \"raining\": false, \"water\": true}, \"19\": {\"explosion\": false, \"fire\": false, \"raining\": false, \"water\": true}, \"20\": {\"explosion\": false, \"fire\": false, \"raining\": false, \"water\": true}, \"21\": {\"explosion\": false, \"fire\": false, \"raining\": false, \"water\": true}, \"22\": {\"explosion\": false, \"fire\": false, \"raining\": true, \"water\": false}, \"23\": {\"explosion\": false, \"fire\": false, \"raining\": false, \"water\": true}, \"24\": {\"explosion\": false, \"fire\": false, \"raining\": false, \"water\": true}, \"25\": {\"explosion\": false, \"fire\": false, \"raining\": false, \"water\": true}, \"26\": {\"explosion\": true, \"fire\": false, \"raining\": false, \"water\": false}, \"27\": {\"explosion\": true, \"fire\": false, \"raining\": false, \"water\": false}, \"28\": {\"explosion\": true, \"fire\": false, \"raining\": false, \"water\": false}, \"29\": {\"explosion\": false, \"fire\": false, \"raining\": false, \"water\": true}, \"30\": {\"explosion\": false, \"fire\": false, \"raining\": false, \"water\": true}, \"31\": {\"explosion\": false, \"fire\": false, \"raining\": false, \"water\": true}, \"32\": {\"explosion\": false, \"fire\": false, \"raining\": true, \"water\": false}, \"33\": {\"explosion\": false, \"fire\": false, \"raining\": true, \"water\": false}, \"34\": {\"explosion\": false, \"fire\": false, \"raining\": true, \"water\": false}, \"35\": {\"explosion\": false, \"fire\": false, \"raining\": false, \"water\": true}}]}]\n"
          ]
        }
      ]
    },
    {
      "cell_type": "code",
      "source": [
        "len(json.dumps(jd))"
      ],
      "metadata": {
        "colab": {
          "base_uri": "https://localhost:8080/"
        },
        "id": "IytmPA2KbNJs",
        "outputId": "41c1beff-8a0c-4881-fe1f-7668717b04c9"
      },
      "execution_count": null,
      "outputs": [
        {
          "output_type": "execute_result",
          "data": {
            "text/plain": [
              "5120"
            ]
          },
          "metadata": {},
          "execution_count": 54
        }
      ]
    },
    {
      "cell_type": "code",
      "source": [
        ""
      ],
      "metadata": {
        "id": "ZnFxHUPabUqm"
      },
      "execution_count": null,
      "outputs": []
    }
  ]
}