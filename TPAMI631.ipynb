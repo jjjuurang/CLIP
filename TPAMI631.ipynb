{
  "nbformat": 4,
  "nbformat_minor": 0,
  "metadata": {
    "colab": {
      "name": "TPAMI631.ipynb",
      "provenance": [],
      "collapsed_sections": [],
      "authorship_tag": "ABX9TyNbxDzBBjHmm2JF2RYv2Pn2",
      "include_colab_link": true
    },
    "kernelspec": {
      "name": "python3",
      "display_name": "Python 3"
    },
    "language_info": {
      "name": "python"
    },
    "accelerator": "GPU",
    "gpuClass": "standard"
  },
  "cells": [
    {
      "cell_type": "markdown",
      "metadata": {
        "id": "view-in-github",
        "colab_type": "text"
      },
      "source": [
        "<a href=\"https://colab.research.google.com/github/jjjuurang/CLIP/blob/main/TPAMI631.ipynb\" target=\"_parent\"><img src=\"https://colab.research.google.com/assets/colab-badge.svg\" alt=\"Open In Colab\"/></a>"
      ]
    },
    {
      "cell_type": "code",
      "source": [
        "true  = True\n",
        "false = False"
      ],
      "metadata": {
        "id": "SpH49vkvLnY3"
      },
      "execution_count": 184,
      "outputs": []
    },
    {
      "cell_type": "code",
      "source": [
        "import pandas as pd\n",
        "csv = pd.read_csv(\"/content/TPAMI603010.csv\",names=[\"result\"])"
      ],
      "metadata": {
        "id": "T5EI1O8oV3qu"
      },
      "execution_count": 185,
      "outputs": []
    },
    {
      "cell_type": "code",
      "source": [
        "R = csv['result'].values.tolist()"
      ],
      "metadata": {
        "id": "PTJtT9_JTuJs"
      },
      "execution_count": 186,
      "outputs": []
    },
    {
      "cell_type": "code",
      "source": [
        "eval(R[0])[0][\"1\"]"
      ],
      "metadata": {
        "colab": {
          "base_uri": "https://localhost:8080/"
        },
        "id": "CiaPOTHCgheD",
        "outputId": "68aaaa66-e650-4988-c877-994000a3ebd1"
      },
      "execution_count": 187,
      "outputs": [
        {
          "output_type": "execute_result",
          "data": {
            "text/plain": [
              "{'audio': True, 'tedi': False, 'text': False}"
            ]
          },
          "metadata": {},
          "execution_count": 187
        }
      ]
    },
    {
      "cell_type": "code",
      "source": [
        "eval(R[0])[0][\"1\"][\"audio\"]"
      ],
      "metadata": {
        "colab": {
          "base_uri": "https://localhost:8080/"
        },
        "id": "Bf2nnrOWglxN",
        "outputId": "8468d0c4-67c0-4070-b20e-821b2a64810c"
      },
      "execution_count": 188,
      "outputs": [
        {
          "output_type": "execute_result",
          "data": {
            "text/plain": [
              "True"
            ]
          },
          "metadata": {},
          "execution_count": 188
        }
      ]
    },
    {
      "cell_type": "code",
      "source": [
        "Best = [\"audio\", \"tedi\", \"text\"]\n",
        "Sound = [\"explosion\", \"fire\", \"raining\", \"water\"]"
      ],
      "metadata": {
        "id": "CErV8bzfm9P7"
      },
      "execution_count": 189,
      "outputs": []
    },
    {
      "cell_type": "code",
      "source": [
        "import numpy as np\n",
        "S1 = np.zeros((203,1))\n",
        "S2 = np.zeros((203,1))\n",
        "S3 = np.zeros((203,1))"
      ],
      "metadata": {
        "id": "s4ql1RHWs7Bh"
      },
      "execution_count": 190,
      "outputs": []
    },
    {
      "cell_type": "code",
      "source": [
        "for i in range(len(R)):\n",
        "  s=0\n",
        "  for j in range(5):\n",
        "    if eval(R[i])[0][str(j+1)][\"audio\"] == True:\n",
        "      s+=1\n",
        "  S1[i][0]=s"
      ],
      "metadata": {
        "id": "aoZWVPkXqurs"
      },
      "execution_count": 191,
      "outputs": []
    },
    {
      "cell_type": "code",
      "source": [
        "for i in range(len(R)):\n",
        "  s=0\n",
        "  for j in range(5):\n",
        "    if eval(R[i])[0][str(j+1)][\"tedi\"] == True:\n",
        "      s+=1\n",
        "  S2[i][0]=s"
      ],
      "metadata": {
        "id": "U03M0vTaSPKD"
      },
      "execution_count": 192,
      "outputs": []
    },
    {
      "cell_type": "code",
      "source": [
        "for i in range(len(R)):\n",
        "  s=0\n",
        "  for j in range(5):\n",
        "    if eval(R[i])[0][str(j+1)][\"text\"] == True:\n",
        "      s+=1\n",
        "  S3[i][0]=s"
      ],
      "metadata": {
        "id": "vj0UplZ_9SpK"
      },
      "execution_count": 193,
      "outputs": []
    },
    {
      "cell_type": "code",
      "source": [
        "print(U1)\n",
        "print(U2)"
      ],
      "metadata": {
        "colab": {
          "base_uri": "https://localhost:8080/"
        },
        "id": "giQTmwmShYaT",
        "outputId": "396e8c0f-1ff1-4df1-fe79-ad8ebb43f3f7"
      },
      "execution_count": 248,
      "outputs": [
        {
          "output_type": "stream",
          "name": "stdout",
          "text": [
            "[0. 1. 2. 3. 4. 5.]\n",
            "[0. 1. 2. 3. 4.]\n"
          ]
        }
      ]
    },
    {
      "cell_type": "code",
      "source": [
        "print(len(U1))"
      ],
      "metadata": {
        "colab": {
          "base_uri": "https://localhost:8080/"
        },
        "id": "Bb4GQWIVhfLa",
        "outputId": "74dbbd82-afbc-45ec-d81b-fb68c2971b5c"
      },
      "execution_count": 247,
      "outputs": [
        {
          "output_type": "stream",
          "name": "stdout",
          "text": [
            "6\n"
          ]
        }
      ]
    },
    {
      "cell_type": "code",
      "source": [
        "U1=np.unique(S1)\n",
        "U2=np.unique(S2)\n",
        "U3=np.unique(S3)"
      ],
      "metadata": {
        "id": "pCfIUQ6Q-HHj"
      },
      "execution_count": 194,
      "outputs": []
    },
    {
      "cell_type": "code",
      "source": [
        "P1=[]\n",
        "for i in range(len(U1)):\n",
        "  line = []\n",
        "  P1.append(line)"
      ],
      "metadata": {
        "id": "SGH31ATrBLSu"
      },
      "execution_count": 206,
      "outputs": []
    },
    {
      "cell_type": "code",
      "source": [
        "for i in range(203):\n",
        "  for j in U1:\n",
        "    if S1[i][0]==j:\n",
        "      P1[U1.tolist().index(j)].append(i)"
      ],
      "metadata": {
        "id": "iUgTiT25Y0Oc"
      },
      "execution_count": 207,
      "outputs": []
    },
    {
      "cell_type": "code",
      "source": [
        "print(P1)"
      ],
      "metadata": {
        "colab": {
          "base_uri": "https://localhost:8080/"
        },
        "id": "Y-cbKK6tcUCQ",
        "outputId": "a10b095c-1db6-430d-9464-20f57e08c60f"
      },
      "execution_count": 208,
      "outputs": [
        {
          "output_type": "stream",
          "name": "stdout",
          "text": [
            "[[94, 129, 137, 142, 159, 167, 182], [8, 63, 73, 120, 138, 198], [100, 132, 143, 146, 157, 161, 174, 181, 189, 194], [2, 10, 28, 34, 58, 60, 62, 67, 75, 76, 90, 121, 126, 133, 147, 151, 166, 170, 173, 183, 196, 197], [0, 1, 6, 12, 13, 16, 18, 19, 21, 26, 27, 31, 33, 36, 39, 40, 42, 44, 48, 49, 53, 54, 59, 61, 64, 65, 66, 71, 72, 77, 78, 79, 80, 84, 86, 89, 93, 97, 99, 101, 104, 105, 106, 109, 112, 114, 115, 116, 122, 123, 128, 130, 131, 135, 139, 141, 144, 145, 148, 149, 150, 152, 153, 154, 155, 156, 162, 168, 175, 178, 184, 187, 190, 191, 192, 193, 195, 199, 200, 202], [3, 4, 5, 7, 9, 11, 14, 15, 17, 20, 22, 23, 24, 25, 29, 30, 32, 35, 37, 38, 41, 43, 45, 46, 47, 50, 51, 52, 55, 56, 57, 68, 69, 70, 74, 81, 82, 83, 85, 87, 88, 91, 92, 95, 96, 98, 102, 103, 107, 108, 110, 111, 113, 117, 118, 119, 124, 125, 127, 134, 136, 140, 158, 160, 163, 164, 165, 169, 171, 172, 176, 177, 179, 180, 185, 186, 188, 201]]\n"
          ]
        }
      ]
    },
    {
      "cell_type": "code",
      "source": [
        "P2=[]\n",
        "for i in range(len(U2)):\n",
        "  line = []\n",
        "  P2.append(line)"
      ],
      "metadata": {
        "id": "KN5BFCbmcWjq"
      },
      "execution_count": 214,
      "outputs": []
    },
    {
      "cell_type": "code",
      "source": [
        "for i in range(203):\n",
        "  for j in U2:\n",
        "    if S2[i][0]==j:\n",
        "      P2[U2.tolist().index(j)].append(i)"
      ],
      "metadata": {
        "id": "VXv_fJTOcbxX"
      },
      "execution_count": 215,
      "outputs": []
    },
    {
      "cell_type": "code",
      "source": [
        "print(P2)"
      ],
      "metadata": {
        "colab": {
          "base_uri": "https://localhost:8080/"
        },
        "id": "oo9nYz3rcg3f",
        "outputId": "80783e19-15f4-488f-c0c3-569bd6524e45"
      },
      "execution_count": 216,
      "outputs": [
        {
          "output_type": "stream",
          "name": "stdout",
          "text": [
            "[[0, 3, 4, 5, 7, 9, 10, 11, 14, 15, 16, 17, 20, 22, 23, 24, 25, 26, 29, 30, 32, 34, 35, 37, 38, 40, 41, 43, 45, 46, 47, 50, 51, 52, 53, 55, 56, 57, 61, 62, 68, 69, 70, 74, 75, 77, 79, 81, 82, 83, 84, 85, 87, 88, 89, 91, 92, 95, 96, 97, 98, 102, 103, 105, 107, 108, 110, 111, 112, 113, 114, 117, 118, 119, 124, 125, 127, 130, 134, 136, 140, 142, 144, 147, 158, 160, 163, 164, 165, 169, 170, 171, 172, 175, 176, 177, 179, 180, 185, 186, 188, 191, 200, 201, 202], [1, 2, 6, 12, 13, 18, 19, 21, 27, 31, 33, 36, 39, 42, 44, 48, 49, 54, 59, 60, 64, 65, 66, 71, 72, 76, 78, 80, 86, 90, 93, 99, 101, 104, 106, 109, 115, 116, 121, 122, 123, 126, 128, 131, 132, 133, 135, 139, 141, 143, 145, 148, 149, 150, 151, 152, 153, 154, 155, 156, 157, 162, 166, 168, 173, 178, 183, 184, 187, 189, 190, 192, 193, 194, 195, 197, 198, 199], [28, 58, 63, 67, 73, 100, 129, 137, 138, 146, 159, 161, 174, 181, 182, 196], [94], [8, 120, 167]]\n"
          ]
        }
      ]
    },
    {
      "cell_type": "code",
      "source": [
        "P3=[]\n",
        "for i in range(len(U3)):\n",
        "  line = []\n",
        "  P3.append(line)"
      ],
      "metadata": {
        "id": "eln76h3Vcjvw"
      },
      "execution_count": 217,
      "outputs": []
    },
    {
      "cell_type": "code",
      "source": [
        "for i in range(203):\n",
        "  for j in U3:\n",
        "    if S3[i][0]==j:\n",
        "      P3[U3.tolist().index(j)].append(i)"
      ],
      "metadata": {
        "id": "IThJ61Mqc8gn"
      },
      "execution_count": 218,
      "outputs": []
    },
    {
      "cell_type": "code",
      "source": [
        "print(P3)"
      ],
      "metadata": {
        "colab": {
          "base_uri": "https://localhost:8080/"
        },
        "id": "vEgt_6ucdDD5",
        "outputId": "a30b73a6-3f1a-4790-8825-e12422d41a2d"
      },
      "execution_count": 219,
      "outputs": [
        {
          "output_type": "stream",
          "name": "stdout",
          "text": [
            "[[1, 3, 4, 5, 6, 7, 8, 9, 11, 12, 13, 14, 15, 17, 18, 19, 20, 21, 22, 23, 24, 25, 27, 28, 29, 30, 31, 32, 33, 35, 36, 37, 38, 39, 41, 42, 43, 44, 45, 46, 47, 48, 49, 50, 51, 52, 54, 55, 56, 57, 58, 59, 64, 65, 66, 67, 68, 69, 70, 71, 72, 74, 78, 80, 81, 82, 83, 85, 86, 87, 88, 91, 92, 93, 95, 96, 98, 99, 101, 102, 103, 104, 106, 107, 108, 109, 110, 111, 113, 115, 116, 117, 118, 119, 120, 122, 123, 124, 125, 127, 128, 131, 134, 135, 136, 139, 140, 141, 145, 148, 149, 150, 152, 153, 154, 155, 156, 158, 160, 162, 163, 164, 165, 168, 169, 171, 172, 176, 177, 178, 179, 180, 184, 185, 186, 187, 188, 190, 192, 193, 195, 196, 199, 201], [0, 2, 16, 26, 40, 53, 60, 61, 76, 77, 79, 84, 89, 90, 97, 100, 105, 112, 114, 121, 126, 130, 133, 144, 146, 151, 161, 166, 167, 173, 174, 175, 181, 183, 191, 197, 200, 202], [10, 34, 62, 63, 73, 75, 94, 132, 138, 143, 147, 157, 170, 189, 194], [129, 137, 159, 182, 198], [142]]\n"
          ]
        }
      ]
    },
    {
      "cell_type": "code",
      "source": [
        "import numpy as np\n",
        "Q1to5 = np.zeros((5,3))"
      ],
      "metadata": {
        "id": "z_ly9FydUwdY"
      },
      "execution_count": 228,
      "outputs": []
    },
    {
      "cell_type": "code",
      "source": [
        "list(range(len(U2),-1,-1))"
      ],
      "metadata": {
        "colab": {
          "base_uri": "https://localhost:8080/"
        },
        "id": "cVaa9L81exZc",
        "outputId": "859db98b-e2d5-434e-e61a-0af35b38ebe2"
      },
      "execution_count": 227,
      "outputs": [
        {
          "output_type": "execute_result",
          "data": {
            "text/plain": [
              "[5, 4, 3, 2, 1, 0]"
            ]
          },
          "metadata": {},
          "execution_count": 227
        }
      ]
    },
    {
      "cell_type": "code",
      "source": [
        "print(len(U2))"
      ],
      "metadata": {
        "colab": {
          "base_uri": "https://localhost:8080/"
        },
        "id": "mFnNTGNqhJu6",
        "outputId": "2a948f1e-cbec-4710-d993-e2cbf6965d30"
      },
      "execution_count": 245,
      "outputs": [
        {
          "output_type": "stream",
          "name": "stdout",
          "text": [
            "5\n"
          ]
        }
      ]
    },
    {
      "cell_type": "code",
      "source": [
        " for i in range(len(R)):\n",
        "   if i in P2[len(U2)-1]:\n",
        "    for j in range(5):\n",
        "       for k in Best:\n",
        "        if eval(R[i])[0][str(j+1)][k] == True:\n",
        "          Q1to5[j][Best.index(k)] += 1"
      ],
      "metadata": {
        "id": "KYy4fvAYfXGg"
      },
      "execution_count": 229,
      "outputs": []
    },
    {
      "cell_type": "code",
      "source": [
        "print(Q1to5)"
      ],
      "metadata": {
        "colab": {
          "base_uri": "https://localhost:8080/"
        },
        "id": "bAdOLjd3fb9H",
        "outputId": "8d77bafa-8173-4c16-8400-598ffb7a36fa"
      },
      "execution_count": 230,
      "outputs": [
        {
          "output_type": "stream",
          "name": "stdout",
          "text": [
            "[[1. 2. 0.]\n",
            " [0. 2. 1.]\n",
            " [0. 3. 0.]\n",
            " [1. 2. 0.]\n",
            " [0. 3. 0.]]\n"
          ]
        }
      ]
    },
    {
      "cell_type": "code",
      "source": [
        " for i in range(len(R)):\n",
        "   if i in P2[len(U2)-2]:\n",
        "    for j in range(5):\n",
        "       for k in Best:\n",
        "        if eval(R[i])[0][str(j+1)][k] == True:\n",
        "          Q1to5[j][Best.index(k)] += 1"
      ],
      "metadata": {
        "id": "9xUSSIHFfhvl"
      },
      "execution_count": 231,
      "outputs": []
    },
    {
      "cell_type": "code",
      "source": [
        "print(Q1to5)"
      ],
      "metadata": {
        "colab": {
          "base_uri": "https://localhost:8080/"
        },
        "id": "Np00kXRYfkO-",
        "outputId": "94c42b60-58f8-4d1d-ee0c-98d624015f9f"
      },
      "execution_count": 232,
      "outputs": [
        {
          "output_type": "stream",
          "name": "stdout",
          "text": [
            "[[1. 3. 0.]\n",
            " [0. 2. 2.]\n",
            " [0. 3. 1.]\n",
            " [1. 3. 0.]\n",
            " [0. 4. 0.]]\n"
          ]
        }
      ]
    },
    {
      "cell_type": "code",
      "source": [
        " for i in range(len(R)):\n",
        "   if i in P2[len(U2)-3]:\n",
        "    for j in range(5):\n",
        "       for k in Best:\n",
        "        if eval(R[i])[0][str(j+1)][k] == True:\n",
        "          Q1to5[j][Best.index(k)] += 1"
      ],
      "metadata": {
        "id": "_ENEOXkcfoIy"
      },
      "execution_count": 233,
      "outputs": []
    },
    {
      "cell_type": "code",
      "source": [
        " for i in range(len(R)):\n",
        "   if i in P2[len(U2)-4]:\n",
        "    for j in range(5):\n",
        "       for k in Best:\n",
        "        if eval(R[i])[0][str(j+1)][k] == True:\n",
        "          Q1to5[j][Best.index(k)] += 1"
      ],
      "metadata": {
        "id": "zP4HGTOUfswP"
      },
      "execution_count": 234,
      "outputs": []
    },
    {
      "cell_type": "code",
      "source": [
        ""
      ],
      "metadata": {
        "id": "qWF-nP6siR6F"
      },
      "execution_count": null,
      "outputs": []
    },
    {
      "cell_type": "code",
      "source": [
        "print(Q1to5)"
      ],
      "metadata": {
        "colab": {
          "base_uri": "https://localhost:8080/"
        },
        "id": "Rx89FoQdfxS3",
        "outputId": "bca4759c-4cc2-4ab3-f941-b593291e3203"
      },
      "execution_count": 236,
      "outputs": [
        {
          "output_type": "stream",
          "name": "stdout",
          "text": [
            "[[78.  5. 15.]\n",
            " [82.  8.  8.]\n",
            " [72. 11. 15.]\n",
            " [66. 24.  8.]\n",
            " [16. 77.  5.]]\n"
          ]
        }
      ]
    },
    {
      "cell_type": "code",
      "source": [
        "print(sum(Q1to5[:,2])/(sum(Q1to5[0,:])*5))"
      ],
      "metadata": {
        "colab": {
          "base_uri": "https://localhost:8080/"
        },
        "id": "d0HRvU0wiFkR",
        "outputId": "ba424a1e-b527-43ed-9d1b-d8bfd486d513"
      },
      "execution_count": 249,
      "outputs": [
        {
          "output_type": "stream",
          "name": "stdout",
          "text": [
            "0.10408163265306122\n"
          ]
        }
      ]
    },
    {
      "cell_type": "code",
      "source": [
        "print(sum(Q1to5[0,:]))"
      ],
      "metadata": {
        "colab": {
          "base_uri": "https://localhost:8080/"
        },
        "id": "cs2XBiKkgy_v",
        "outputId": "3353e029-3afa-46fa-b661-3134169a42ea"
      },
      "execution_count": 243,
      "outputs": [
        {
          "output_type": "stream",
          "name": "stdout",
          "text": [
            "98.0\n"
          ]
        }
      ]
    },
    {
      "cell_type": "code",
      "source": [
        "print(sum(Q1to5[:,1])/(sum(Q1to5[0,:])*5))"
      ],
      "metadata": {
        "colab": {
          "base_uri": "https://localhost:8080/"
        },
        "id": "q3k81iZOgm3p",
        "outputId": "5b6fe9a0-fbbe-4390-f87d-f744019236ff"
      },
      "execution_count": 244,
      "outputs": [
        {
          "output_type": "stream",
          "name": "stdout",
          "text": [
            "0.25510204081632654\n"
          ]
        }
      ]
    },
    {
      "cell_type": "code",
      "source": [
        ""
      ],
      "metadata": {
        "id": "0fRn0EzkgrpI"
      },
      "execution_count": null,
      "outputs": []
    },
    {
      "cell_type": "code",
      "source": [
        "print(Q1to5[:,1])"
      ],
      "metadata": {
        "colab": {
          "base_uri": "https://localhost:8080/"
        },
        "id": "ftqkac94gK_o",
        "outputId": "f9d15e57-a34f-4c2d-f1f2-02618a948f1f"
      },
      "execution_count": 241,
      "outputs": [
        {
          "output_type": "stream",
          "name": "stdout",
          "text": [
            "[ 5.  8. 11. 24. 77.]\n"
          ]
        }
      ]
    },
    {
      "cell_type": "code",
      "source": [
        ""
      ],
      "metadata": {
        "id": "LH29sUlDgHfO"
      },
      "execution_count": null,
      "outputs": []
    },
    {
      "cell_type": "code",
      "source": [
        " for i in range(len(R)):\n",
        "   #for l in range(len(U2),-1,-1):\n",
        "  if i in P2[len(U2)-1]:\n",
        "    for j in range(5):\n",
        "       for k in Best:\n",
        "        if eval(R[i])[0][str(j+1)][k] == True:\n",
        "          Q1to5[j][Best.index(k)] += 1\n"
      ],
      "metadata": {
        "id": "z1ZBmoE9ddLg"
      },
      "execution_count": 224,
      "outputs": []
    },
    {
      "cell_type": "code",
      "source": [
        "print(Q1to5)"
      ],
      "metadata": {
        "colab": {
          "base_uri": "https://localhost:8080/"
        },
        "id": "oa1aO5tdeMUw",
        "outputId": "059919a8-abda-4cde-cd66-dcab26df313b"
      },
      "execution_count": 225,
      "outputs": [
        {
          "output_type": "stream",
          "name": "stdout",
          "text": [
            "[[1. 2. 0.]\n",
            " [0. 2. 1.]\n",
            " [0. 3. 0.]\n",
            " [1. 2. 0.]\n",
            " [0. 3. 0.]]\n"
          ]
        }
      ]
    },
    {
      "cell_type": "code",
      "source": [
        ""
      ],
      "metadata": {
        "id": "fuCLJsG_em_k"
      },
      "execution_count": null,
      "outputs": []
    },
    {
      "cell_type": "code",
      "source": [
        "for i in range(len(R)):\n",
        "  for j in range(5):\n",
        "    for k in Best:\n",
        "      if eval(R[i])[0][str(j+1)][k] == True:\n",
        "        Q1to5[j][Best.index(k)] += 1"
      ],
      "metadata": {
        "id": "_W-yHvx0ljG4"
      },
      "execution_count": 141,
      "outputs": []
    },
    {
      "cell_type": "code",
      "source": [
        "print(Q1to5)"
      ],
      "metadata": {
        "colab": {
          "base_uri": "https://localhost:8080/"
        },
        "id": "4xofINVVeYh7",
        "outputId": "b2d6bec4-8946-4e69-b463-3744885ecb03"
      },
      "execution_count": 142,
      "outputs": [
        {
          "output_type": "stream",
          "name": "stdout",
          "text": [
            "[[180.   5.  18.]\n",
            " [182.   8.  13.]\n",
            " [174.  11.  18.]\n",
            " [160.  24.  19.]\n",
            " [106.  77.  20.]]\n"
          ]
        }
      ]
    },
    {
      "cell_type": "code",
      "source": [
        "print(Q1to5)"
      ],
      "metadata": {
        "colab": {
          "base_uri": "https://localhost:8080/"
        },
        "id": "tayw1cT4Xb_H",
        "outputId": "188451cc-c634-4bce-db9c-cdea3d0a87a2"
      },
      "execution_count": 96,
      "outputs": [
        {
          "output_type": "stream",
          "name": "stdout",
          "text": [
            "[[81.  5. 14.]\n",
            " [84.  8.  8.]\n",
            " [75. 11. 14.]\n",
            " [68. 23.  9.]\n",
            " [22. 73.  5.]]\n"
          ]
        }
      ]
    },
    {
      "cell_type": "code",
      "source": [
        "print(Q1to5)"
      ],
      "metadata": {
        "colab": {
          "base_uri": "https://localhost:8080/"
        },
        "id": "Kc7j1PuXnJxg",
        "outputId": "42628c64-9865-47cc-a0ab-231bf9379eb3"
      },
      "execution_count": 77,
      "outputs": [
        {
          "output_type": "stream",
          "name": "stdout",
          "text": [
            "[[81.  5. 14.]\n",
            " [84.  8.  8.]\n",
            " [75. 11. 14.]\n",
            " [69. 23.  8.]\n",
            " [22. 73.  5.]]\n"
          ]
        }
      ]
    },
    {
      "cell_type": "code",
      "source": [
        ""
      ],
      "metadata": {
        "id": "SXQPKQu7VHbJ"
      },
      "execution_count": null,
      "outputs": []
    },
    {
      "cell_type": "code",
      "source": [
        ""
      ],
      "metadata": {
        "id": "rBRpWYDvo78w"
      },
      "execution_count": null,
      "outputs": []
    },
    {
      "cell_type": "code",
      "source": [
        "import numpy as np\n",
        "Q6 = np.zeros((30,4))"
      ],
      "metadata": {
        "id": "Go2w6VagneNn"
      },
      "execution_count": 37,
      "outputs": []
    },
    {
      "cell_type": "code",
      "source": [
        "for i in range(len(R)):\n",
        "  for j in range(6,36):\n",
        "    for k in Sound:\n",
        "      if eval(R[i])[0][str(j)][k] == True:\n",
        "        Q6[j-6][Sound.index(k)] += 1"
      ],
      "metadata": {
        "id": "aqflNIBsneip"
      },
      "execution_count": 38,
      "outputs": []
    },
    {
      "cell_type": "code",
      "source": [
        "print(Q6)"
      ],
      "metadata": {
        "colab": {
          "base_uri": "https://localhost:8080/"
        },
        "id": "5nNR59punx69",
        "outputId": "eb7675e2-3763-4f5f-b531-0bcf9cfc04ae"
      },
      "execution_count": 39,
      "outputs": [
        {
          "output_type": "stream",
          "name": "stdout",
          "text": [
            "[[ 50. 122.  11.  20.]\n",
            " [ 91. 101.   3.   8.]\n",
            " [ 92. 104.   4.   3.]\n",
            " [ 33.   7.   9. 154.]\n",
            " [ 39.   9.  11. 144.]\n",
            " [ 13.  15.  75. 100.]\n",
            " [ 15.  10. 102.  76.]\n",
            " [ 17.   9. 150.  27.]\n",
            " [ 30. 162.   5.   6.]\n",
            " [ 28. 164.   5.   6.]\n",
            " [ 28.  35.  65.  75.]\n",
            " [ 25.  76.  83.  19.]\n",
            " [ 53.   8.  18. 124.]\n",
            " [ 70.  29.  45.  59.]\n",
            " [ 34.  25.  52.  92.]\n",
            " [ 55.  15.  38.  95.]\n",
            " [  7.   8.  65. 123.]\n",
            " [  4.   7.   3. 189.]\n",
            " [ 66.  11.  22. 104.]\n",
            " [  7.   8.   1. 187.]\n",
            " [ 93. 102.   1.   7.]\n",
            " [ 94.  33.  28.  48.]\n",
            " [108.  90.   2.   3.]\n",
            " [ 14.   7.   5. 177.]\n",
            " [  3.   6.   4. 190.]\n",
            " [  5.   9.   2. 187.]\n",
            " [ 23.   9. 121.  50.]\n",
            " [  9.   7. 157.  30.]\n",
            " [ 38.  12.  45. 108.]\n",
            " [ 42.  22. 108.  31.]]\n"
          ]
        }
      ]
    }
  ]
}